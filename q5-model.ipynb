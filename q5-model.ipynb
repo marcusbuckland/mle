{
 "cells": [
  {
   "cell_type": "code",
   "execution_count": 1,
   "metadata": {},
   "outputs": [],
   "source": [
    "import pandas as pd\n",
    "import numpy as np\n",
    "import matplotlib.pyplot as plt\n",
    "from sklearn.linear_model import LinearRegression\n",
    "\n",
    "SALARIES_AND_WAGES_FILENAME = \"salaries_and_wages_df.xlsx\"\n",
    "CPI_FILENAME = \"consumers-price-index-june-2024-quarter-seasonally-adjusted.csv\""
   ]
  },
  {
   "cell_type": "code",
   "execution_count": 2,
   "metadata": {},
   "outputs": [],
   "source": [
    "salaries_and_wages = pd.read_excel(f'./data/{SALARIES_AND_WAGES_FILENAME}')\n",
    "cpi = pd.read_csv(f'./data/{CPI_FILENAME}')"
   ]
  },
  {
   "cell_type": "code",
   "execution_count": 3,
   "metadata": {},
   "outputs": [],
   "source": [
    "# Of Interest is understanding the relationship between salaries and wages data and the consumer price index data\n",
    "# Can we build a model to predict the CPI based on the salaries and wages data?"
   ]
  },
  {
   "cell_type": "code",
   "execution_count": 4,
   "metadata": {},
   "outputs": [],
   "source": [
    "# Considerations:\n",
    "\n",
    "# The model will be a regression model, as we are using numerical data to predict a numerical target variable\n",
    "\n",
    "# The CPI dataset is seasonally adjusted-\n",
    "# so we will use the seasonally adjusted salaries and wages data\n",
    "\n",
    "# Because it is of interest to me to understand the relationship between salaries and wages and the CPI,\n",
    "# it is prudent to use a model where the results are interpretable. i.e. Linear Regression\n",
    "\n",
    "# As we are building a linear regression model, there isn't the need to split the data into train/test sets."
   ]
  },
  {
   "cell_type": "code",
   "execution_count": 5,
   "metadata": {},
   "outputs": [
    {
     "data": {
      "text/plain": [
       "32"
      ]
     },
     "execution_count": 5,
     "metadata": {},
     "output_type": "execute_result"
    }
   ],
   "source": [
    "# There are only 32 unique periods in the salaries and wages dataset\n",
    "# Failing at the first hurdle a little- not a lot of data points to train a model.\n",
    "# Let's go for it anyway just for fun.\n",
    "salaries_and_wages['Period'].nunique() "
   ]
  },
  {
   "cell_type": "code",
   "execution_count": 6,
   "metadata": {},
   "outputs": [],
   "source": [
    "# Take the logarithm of the salaries and wages data and store in X\n",
    "X = pd.DataFrame(np.log(salaries_and_wages.groupby('Period')['Data_value'].agg('sum')))\n",
    "y = cpi[(cpi['Period'] >= 2016.06) & (cpi['Series_title_2'] == 'Non-Tradable All Groups')].iloc[:-1, :]['Period'].to_numpy()"
   ]
  },
  {
   "cell_type": "code",
   "execution_count": 7,
   "metadata": {},
   "outputs": [
    {
     "data": {
      "text/plain": [
       "0.9044"
      ]
     },
     "execution_count": 7,
     "metadata": {},
     "output_type": "execute_result"
    }
   ],
   "source": [
    "# Model\n",
    "\n",
    "reg = LinearRegression().fit(X, y)\n",
    "reg.score(X,y).round(4) # R^2 = 0.9044\n"
   ]
  },
  {
   "cell_type": "code",
   "execution_count": 8,
   "metadata": {},
   "outputs": [],
   "source": [
    "# Interpretation - \n",
    "\n",
    "# 90% of the variation in the Seasonally adjusted CPI is explained by the variation in our explanatory variable, in this case the \n",
    "# salaries and wages data."
   ]
  }
 ],
 "metadata": {
  "kernelspec": {
   "display_name": "marcus",
   "language": "python",
   "name": "python3"
  },
  "language_info": {
   "codemirror_mode": {
    "name": "ipython",
    "version": 3
   },
   "file_extension": ".py",
   "mimetype": "text/x-python",
   "name": "python",
   "nbconvert_exporter": "python",
   "pygments_lexer": "ipython3",
   "version": "3.11.5"
  }
 },
 "nbformat": 4,
 "nbformat_minor": 2
}
