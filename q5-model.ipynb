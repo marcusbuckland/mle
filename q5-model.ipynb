{
 "cells": [
  {
   "cell_type": "code",
   "execution_count": 1,
   "metadata": {},
   "outputs": [],
   "source": [
    "import pandas as pd\n",
    "import numpy as np\n",
    "import matplotlib.pyplot as plt\n",
    "\n",
    "SALARIES_AND_WAGES_FILENAME = \"salaries_and_wages_df.xlsx\"\n",
    "CPI_FILENAME = \"consumers-price-index-june-2024-quarter-seasonally-adjusted.csv\""
   ]
  },
  {
   "cell_type": "code",
   "execution_count": 2,
   "metadata": {},
   "outputs": [],
   "source": [
    "salaries_and_wages = pd.read_excel(f'./data/{SALARIES_AND_WAGES_FILENAME}')\n",
    "cpi = pd.read_csv(f'./data/{CPI_FILENAME}')"
   ]
  },
  {
   "cell_type": "code",
   "execution_count": 3,
   "metadata": {},
   "outputs": [],
   "source": [
    "# Of Interest is understanding the relationship between salaries and wages data and the consumer price index data\n",
    "# Can we build a model to predict the CPI based on the salaries and wages data?"
   ]
  },
  {
   "cell_type": "code",
   "execution_count": 4,
   "metadata": {},
   "outputs": [],
   "source": [
    "# Considerations:\n",
    "\n",
    "# The model will be a regression model, as we are using numerical data to predict a numerical value\n",
    "\n",
    "# We're dealing with timeseries data, so when separating data into training / testing sets\n",
    "# we won't shuffle the data or randomise it, instead we will partition the datasets by date.\n",
    "\n",
    "# The CPI dataset is seasonally adjusted-\n",
    "# so we will use the seasonally adjusted salaries and wages data\n"
   ]
  },
  {
   "cell_type": "code",
   "execution_count": null,
   "metadata": {},
   "outputs": [],
   "source": []
  },
  {
   "cell_type": "code",
   "execution_count": null,
   "metadata": {},
   "outputs": [],
   "source": []
  },
  {
   "cell_type": "code",
   "execution_count": null,
   "metadata": {},
   "outputs": [],
   "source": []
  }
 ],
 "metadata": {
  "kernelspec": {
   "display_name": "marcus",
   "language": "python",
   "name": "python3"
  },
  "language_info": {
   "codemirror_mode": {
    "name": "ipython",
    "version": 3
   },
   "file_extension": ".py",
   "mimetype": "text/x-python",
   "name": "python",
   "nbconvert_exporter": "python",
   "pygments_lexer": "ipython3",
   "version": "3.11.5"
  }
 },
 "nbformat": 4,
 "nbformat_minor": 2
}
