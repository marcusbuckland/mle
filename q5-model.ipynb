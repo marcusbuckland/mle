{
 "cells": [
  {
   "cell_type": "markdown",
   "metadata": {},
   "source": [
    "## Question 5\n",
    "\n",
    "For this question I decided to explore the relationship between salaries and wages & inflation. I used CPI as my measure of inflation.\n",
    "\n",
    "Prior to conducting any analysis, intuitively I suspected there would be a positive association between salaries and wages and CPI.\n",
    "\n",
    "I did some very quick googling just to ensure that my approach made sense- and found two documents which further shaped the direction of my analyis. These documents are included in this repository in the `Supporting Documents` directory.\n",
    "\n",
    "<u>Supporting Documents:</u>\n",
    "\n",
    "1. dp09-06-Analysing wage and price dynamics in NZ\n",
    "2. p20045coll4_54-Exploring Tradable and Non-Tradable Inflation in Consumer Prices\n",
    "\n",
    "\n",
    "In the Abstract of the first document listed above it says:\n",
    "\n",
    "> _We find that there is a joint causality between wages and disaggregate inflation. An increase in wage inflation forecasts an increase in non-tradable inflation._\n",
    "\n",
    "I found on the Stats NZ website that they publish a tradable and non-tradable inflation series, and given the quote above it made sense to me to use this data for my analysis.\n",
    "\n",
    "I decided to create two models of the form:\n",
    "\n",
    "$$ \\text{Model 1:} \\ Y_1 = \\beta_1X_1 + \\beta_0$$\n",
    "\n",
    "$$ \\text{Model 2:} \\ Y_2 = \\beta_1X_1 + \\beta_0$$\n",
    "\n",
    "Where the independent variable of each model is:\n",
    "\n",
    "$Y_1$: is New Zealand's CPI for Tradeable groups.\n",
    "\n",
    "$Y_2$: is New Zealand's CPI for Non-tradeable groups.\n",
    "\n",
    "and the explanatory variable of each model is:\n",
    "\n",
    "$X_1$: is Salaries and Wages data\n",
    "\n",
    "I thought that Simple Linear Regression was a sensible and appropriate choice, as it was of interest to me to interpret the $\\beta$ coefficients, to understand the association between salaries and wages and inflation in NZ.\n",
    "\n",
    "Given the quote above showing that previous research had showed a positive association between wages and non-tradeable inflation, I decided that I would perform a 1-tailed test, testing only for a positive association.\n",
    "As I had no reference for how salaries and wages may affect Tradeable inflation, I thought a 2-sided test appropriate.\n",
    "\n",
    "**Distinction between Tradeable and Non-Tradeable Goods and Services:**\n",
    "\n",
    "> Goods and services whose prices are primarily influenced by world prices and international supply and demand, and whose prices are primarily determined by factors such as domestic demand and supply. Goods and services which enter international trade and satisfy the law of one price, or at an appropriate relative price that could satisfy the law of one price, can be defined as tradable. All other goods and services will be defined as non-tradable.\n",
    "\n",
    "Further information about the CPI and how it is calculated can be found on the Stats NZ website- https://www.stats.govt.nz/topics/consumers-price-index\n",
    "\n",
    "**Datasets used:**\n",
    "\n",
    "1. consumers-price-index-june-2024-quarter-tradeables-and-non-tradeables.csv\n",
    "2. Business financial data: March 2024 quarter"
   ]
  },
  {
   "cell_type": "markdown",
   "metadata": {},
   "source": [
    "#### Hypotheses:\n",
    "\n",
    "__Model 1:__\n",
    "\n",
    "$\\mathcal{H}_0: \\text{There is no association between salaries and wages and the CPI for Tradeable groups in New Zealand} \\ (\\beta_1 = 0)$ \\\n",
    "$\\mathcal{H}_1: \\text{There is an association between salaries and wages and the CPI for Tradeable groups in New Zealand} \\ (\\beta_1 \\neq 0)$\n",
    "\n",
    "\n",
    "\n",
    "__Model 2:__\n",
    "\n",
    "$\\mathcal{H}_0: \\text{There is no positive association between salaries and wages and the CPI for Non-tradeable groups in New Zealand} \\ (\\beta_1 = 0)$ \\\n",
    "$\\mathcal{H}_1: \\text{There is a positive association between salaries and wages and the CPI for Non-tradeable groups in New Zealand} \\ (\\beta_1 > 0)$\n",
    "\n",
    "\n"
   ]
  },
  {
   "cell_type": "code",
   "execution_count": 1,
   "metadata": {},
   "outputs": [],
   "source": [
    "import pandas as pd\n",
    "import numpy as np\n",
    "import matplotlib.pyplot as plt\n",
    "import statsmodels.api as sm\n",
    "\n",
    "SALARIES_AND_WAGES_FILENAME = \"salaries_and_wages_df.xlsx\"\n",
    "CPI_FILENAME = \"consumers-price-index-june-2024-quarter-tradeables-and-non-tradeables.csv\""
   ]
  },
  {
   "cell_type": "code",
   "execution_count": 2,
   "metadata": {},
   "outputs": [],
   "source": [
    "salaries_and_wages = pd.read_excel(f'./data/{SALARIES_AND_WAGES_FILENAME}')\n",
    "cpi = pd.read_csv(f'./data/{CPI_FILENAME}')"
   ]
  },
  {
   "cell_type": "code",
   "execution_count": 3,
   "metadata": {},
   "outputs": [],
   "source": [
    "# Group salaries and wages data by Period - explanatory variable\n",
    "grouped = salaries_and_wages.groupby('Period')['Data_value'].agg('sum')"
   ]
  },
  {
   "cell_type": "code",
   "execution_count": 4,
   "metadata": {},
   "outputs": [
    {
     "data": {
      "text/plain": [
       "array(['CPI All Groups for New Zealand',\n",
       "       'CPI Non-standard Tradable & Non-tradable Component Series',\n",
       "       'CPI Level 1 Groups Tradables and Non-tradables',\n",
       "       'CPI Level 2 Subgroups Tradables and Non-tradables',\n",
       "       'CPI Level 3 Classes Tradables and Non-tradables'], dtype=object)"
      ]
     },
     "execution_count": 4,
     "metadata": {},
     "output_type": "execute_result"
    }
   ],
   "source": [
    "cpi.Group.unique()"
   ]
  },
  {
   "cell_type": "code",
   "execution_count": 5,
   "metadata": {},
   "outputs": [],
   "source": [
    "# Filter cpi to include only Tradeables and Non-tradeables\n",
    "cpi = cpi[cpi['Group'] == 'CPI Non-standard Tradable & Non-tradable Component Series']"
   ]
  },
  {
   "cell_type": "code",
   "execution_count": 6,
   "metadata": {},
   "outputs": [],
   "source": [
    "# Perform an inner join on the two dataframes, using the 'Period' column as the key\n",
    "df = pd.merge(left=grouped, right=cpi.loc[:, ['Period', 'Data_value', 'Series_title_1']], on='Period', how='inner')"
   ]
  },
  {
   "cell_type": "code",
   "execution_count": 7,
   "metadata": {},
   "outputs": [
    {
     "data": {
      "text/html": [
       "<div>\n",
       "<style scoped>\n",
       "    .dataframe tbody tr th:only-of-type {\n",
       "        vertical-align: middle;\n",
       "    }\n",
       "\n",
       "    .dataframe tbody tr th {\n",
       "        vertical-align: top;\n",
       "    }\n",
       "\n",
       "    .dataframe thead th {\n",
       "        text-align: right;\n",
       "    }\n",
       "</style>\n",
       "<table border=\"1\" class=\"dataframe\">\n",
       "  <thead>\n",
       "    <tr style=\"text-align: right;\">\n",
       "      <th></th>\n",
       "      <th>Period</th>\n",
       "      <th>Salaries_and_wages</th>\n",
       "      <th>CPI</th>\n",
       "      <th>CPI_Disaggregation</th>\n",
       "    </tr>\n",
       "  </thead>\n",
       "  <tbody>\n",
       "    <tr>\n",
       "      <th>0</th>\n",
       "      <td>2016.06</td>\n",
       "      <td>33188.598</td>\n",
       "      <td>991.493384</td>\n",
       "      <td>Tradable All Groups</td>\n",
       "    </tr>\n",
       "    <tr>\n",
       "      <th>1</th>\n",
       "      <td>2016.06</td>\n",
       "      <td>33188.598</td>\n",
       "      <td>976.693372</td>\n",
       "      <td>Non-Tradable All Groups</td>\n",
       "    </tr>\n",
       "    <tr>\n",
       "      <th>2</th>\n",
       "      <td>2016.09</td>\n",
       "      <td>33113.652</td>\n",
       "      <td>991.493384</td>\n",
       "      <td>Tradable All Groups</td>\n",
       "    </tr>\n",
       "    <tr>\n",
       "      <th>3</th>\n",
       "      <td>2016.09</td>\n",
       "      <td>33113.652</td>\n",
       "      <td>981.791697</td>\n",
       "      <td>Non-Tradable All Groups</td>\n",
       "    </tr>\n",
       "    <tr>\n",
       "      <th>4</th>\n",
       "      <td>2016.12</td>\n",
       "      <td>34179.942</td>\n",
       "      <td>994.328922</td>\n",
       "      <td>Tradable All Groups</td>\n",
       "    </tr>\n",
       "    <tr>\n",
       "      <th>...</th>\n",
       "      <td>...</td>\n",
       "      <td>...</td>\n",
       "      <td>...</td>\n",
       "      <td>...</td>\n",
       "    </tr>\n",
       "    <tr>\n",
       "      <th>59</th>\n",
       "      <td>2023.09</td>\n",
       "      <td>61624.023</td>\n",
       "      <td>1294.000000</td>\n",
       "      <td>Non-Tradable All Groups</td>\n",
       "    </tr>\n",
       "    <tr>\n",
       "      <th>60</th>\n",
       "      <td>2023.12</td>\n",
       "      <td>63533.993</td>\n",
       "      <td>1198.000000</td>\n",
       "      <td>Tradable All Groups</td>\n",
       "    </tr>\n",
       "    <tr>\n",
       "      <th>61</th>\n",
       "      <td>2023.12</td>\n",
       "      <td>63533.993</td>\n",
       "      <td>1308.000000</td>\n",
       "      <td>Non-Tradable All Groups</td>\n",
       "    </tr>\n",
       "    <tr>\n",
       "      <th>62</th>\n",
       "      <td>2024.03</td>\n",
       "      <td>62389.365</td>\n",
       "      <td>1190.000000</td>\n",
       "      <td>Tradable All Groups</td>\n",
       "    </tr>\n",
       "    <tr>\n",
       "      <th>63</th>\n",
       "      <td>2024.03</td>\n",
       "      <td>62389.365</td>\n",
       "      <td>1329.000000</td>\n",
       "      <td>Non-Tradable All Groups</td>\n",
       "    </tr>\n",
       "  </tbody>\n",
       "</table>\n",
       "<p>64 rows × 4 columns</p>\n",
       "</div>"
      ],
      "text/plain": [
       "     Period  Salaries_and_wages          CPI       CPI_Disaggregation\n",
       "0   2016.06           33188.598   991.493384      Tradable All Groups\n",
       "1   2016.06           33188.598   976.693372  Non-Tradable All Groups\n",
       "2   2016.09           33113.652   991.493384      Tradable All Groups\n",
       "3   2016.09           33113.652   981.791697  Non-Tradable All Groups\n",
       "4   2016.12           34179.942   994.328922      Tradable All Groups\n",
       "..      ...                 ...          ...                      ...\n",
       "59  2023.09           61624.023  1294.000000  Non-Tradable All Groups\n",
       "60  2023.12           63533.993  1198.000000      Tradable All Groups\n",
       "61  2023.12           63533.993  1308.000000  Non-Tradable All Groups\n",
       "62  2024.03           62389.365  1190.000000      Tradable All Groups\n",
       "63  2024.03           62389.365  1329.000000  Non-Tradable All Groups\n",
       "\n",
       "[64 rows x 4 columns]"
      ]
     },
     "execution_count": 7,
     "metadata": {},
     "output_type": "execute_result"
    }
   ],
   "source": [
    "df.rename(columns={'Data_value_x': 'Salaries_and_wages', 'Data_value_y': 'CPI', 'Series_title_1': 'CPI_Disaggregation'}, inplace=True)\n",
    "df"
   ]
  },
  {
   "cell_type": "code",
   "execution_count": 8,
   "metadata": {},
   "outputs": [
    {
     "data": {
      "image/png": "[encoded data removed]",
      "text/plain": [
       "<Figure size 640x480 with 1 Axes>"
      ]
     },
     "metadata": {},
     "output_type": "display_data"
    }
   ],
   "source": [
    "# Scatterplot of Salaries and Wages vs CPI\n",
    "for label, df_group in df.groupby('CPI_Disaggregation'):\n",
    "    plt.scatter(df_group['Salaries_and_wages'], df_group['CPI'], label=label)\n",
    "\n",
    "plt.xlabel('Salaries and Wages (NZD $million)')\n",
    "plt.ylabel('CPI')\n",
    "plt.legend()\n",
    "plt.show()"
   ]
  },
  {
   "cell_type": "code",
   "execution_count": 9,
   "metadata": {},
   "outputs": [
    {
     "data": {
      "image/png": "[encoded data removed]",
      "text/plain": [
       "<Figure size 640x480 with 1 Axes>"
      ]
     },
     "metadata": {},
     "output_type": "display_data"
    }
   ],
   "source": [
    "# Scatterplot of log(Salaries and Wages) vs CPI\n",
    "for label, df_group in df.groupby('CPI_Disaggregation'):\n",
    "    plt.scatter(np.log(df_group['Salaries_and_wages']), df_group['CPI'], label=label)\n",
    "\n",
    "plt.xlabel('Salaries and Wages log(NZD $Million)')\n",
    "plt.ylabel('CPI')\n",
    "plt.legend()\n",
    "plt.show()"
   ]
  },
  {
   "cell_type": "code",
   "execution_count": 10,
   "metadata": {},
   "outputs": [],
   "source": [
    "# Explanatory and Target variables\n",
    "X = df['Salaries_and_wages'].to_numpy().reshape(-1, 1)[::2]\n",
    "y1 = df[df['CPI_Disaggregation'] == 'Tradable All Groups'].loc[:, 'CPI'].to_numpy().reshape(-1, 1)\n",
    "y2 = df[df['CPI_Disaggregation'] == 'Non-Tradable All Groups'].loc[:, 'CPI'].to_numpy().reshape(-1, 1)"
   ]
  },
  {
   "cell_type": "code",
   "execution_count": 11,
   "metadata": {},
   "outputs": [
    {
     "data": {
      "text/html": [
       "<table class=\"simpletable\">\n",
       "<caption>OLS Regression Results</caption>\n",
       "<tr>\n",
       "  <th>Dep. Variable:</th>            <td>y</td>        <th>  R-squared (uncentered):</th>      <td>   0.985</td>\n",
       "</tr>\n",
       "<tr>\n",
       "  <th>Model:</th>                   <td>OLS</td>       <th>  Adj. R-squared (uncentered):</th> <td>   0.984</td>\n",
       "</tr>\n",
       "<tr>\n",
       "  <th>Method:</th>             <td>Least Squares</td>  <th>  F-statistic:       </th>          <td>   2006.</td>\n",
       "</tr>\n",
       "<tr>\n",
       "  <th>Date:</th>             <td>Sat, 12 Oct 2024</td> <th>  Prob (F-statistic):</th>          <td>9.64e-30</td>\n",
       "</tr>\n",
       "<tr>\n",
       "  <th>Time:</th>                 <td>13:31:21</td>     <th>  Log-Likelihood:    </th>          <td> -201.22</td>\n",
       "</tr>\n",
       "<tr>\n",
       "  <th>No. Observations:</th>      <td>    32</td>      <th>  AIC:               </th>          <td>   404.4</td>\n",
       "</tr>\n",
       "<tr>\n",
       "  <th>Df Residuals:</th>          <td>    31</td>      <th>  BIC:               </th>          <td>   405.9</td>\n",
       "</tr>\n",
       "<tr>\n",
       "  <th>Df Model:</th>              <td>     1</td>      <th>                     </th>              <td> </td>   \n",
       "</tr>\n",
       "<tr>\n",
       "  <th>Covariance Type:</th>      <td>nonrobust</td>    <th>                     </th>              <td> </td>   \n",
       "</tr>\n",
       "</table>\n",
       "<table class=\"simpletable\">\n",
       "<tr>\n",
       "   <td></td>     <th>coef</th>     <th>std err</th>      <th>t</th>      <th>P>|t|</th>  <th>[0.025</th>    <th>0.975]</th>  \n",
       "</tr>\n",
       "<tr>\n",
       "  <th>x1</th> <td>    0.0213</td> <td>    0.000</td> <td>   44.784</td> <td> 0.000</td> <td>    0.020</td> <td>    0.022</td>\n",
       "</tr>\n",
       "</table>\n",
       "<table class=\"simpletable\">\n",
       "<tr>\n",
       "  <th>Omnibus:</th>       <td> 4.545</td> <th>  Durbin-Watson:     </th> <td>   0.102</td>\n",
       "</tr>\n",
       "<tr>\n",
       "  <th>Prob(Omnibus):</th> <td> 0.103</td> <th>  Jarque-Bera (JB):  </th> <td>   4.056</td>\n",
       "</tr>\n",
       "<tr>\n",
       "  <th>Skew:</th>          <td> 0.863</td> <th>  Prob(JB):          </th> <td>   0.132</td>\n",
       "</tr>\n",
       "<tr>\n",
       "  <th>Kurtosis:</th>      <td> 2.750</td> <th>  Cond. No.          </th> <td>    1.00</td>\n",
       "</tr>\n",
       "</table><br/><br/>Notes:<br/>[1] R² is computed without centering (uncentered) since the model does not contain a constant.<br/>[2] Standard Errors assume that the covariance matrix of the errors is correctly specified."
      ],
      "text/latex": [
       "\\begin{center}\n",
       "\\begin{tabular}{lclc}\n",
       "\\toprule\n",
       "\\textbf{Dep. Variable:}    &        y         & \\textbf{  R-squared (uncentered):}      &     0.985   \\\\\n",
       "\\textbf{Model:}            &       OLS        & \\textbf{  Adj. R-squared (uncentered):} &     0.984   \\\\\n",
       "\\textbf{Method:}           &  Least Squares   & \\textbf{  F-statistic:       }          &     2006.   \\\\\n",
       "\\textbf{Date:}             & Sat, 12 Oct 2024 & \\textbf{  Prob (F-statistic):}          &  9.64e-30   \\\\\n",
       "\\textbf{Time:}             &     13:31:21     & \\textbf{  Log-Likelihood:    }          &   -201.22   \\\\\n",
       "\\textbf{No. Observations:} &          32      & \\textbf{  AIC:               }          &     404.4   \\\\\n",
       "\\textbf{Df Residuals:}     &          31      & \\textbf{  BIC:               }          &     405.9   \\\\\n",
       "\\textbf{Df Model:}         &           1      & \\textbf{                     }          &             \\\\\n",
       "\\textbf{Covariance Type:}  &    nonrobust     & \\textbf{                     }          &             \\\\\n",
       "\\bottomrule\n",
       "\\end{tabular}\n",
       "\\begin{tabular}{lcccccc}\n",
       "            & \\textbf{coef} & \\textbf{std err} & \\textbf{t} & \\textbf{P$> |$t$|$} & \\textbf{[0.025} & \\textbf{0.975]}  \\\\\n",
       "\\midrule\n",
       "\\textbf{x1} &       0.0213  &        0.000     &    44.784  &         0.000        &        0.020    &        0.022     \\\\\n",
       "\\bottomrule\n",
       "\\end{tabular}\n",
       "\\begin{tabular}{lclc}\n",
       "\\textbf{Omnibus:}       &  4.545 & \\textbf{  Durbin-Watson:     } &    0.102  \\\\\n",
       "\\textbf{Prob(Omnibus):} &  0.103 & \\textbf{  Jarque-Bera (JB):  } &    4.056  \\\\\n",
       "\\textbf{Skew:}          &  0.863 & \\textbf{  Prob(JB):          } &    0.132  \\\\\n",
       "\\textbf{Kurtosis:}      &  2.750 & \\textbf{  Cond. No.          } &     1.00  \\\\\n",
       "\\bottomrule\n",
       "\\end{tabular}\n",
       "%\\caption{OLS Regression Results}\n",
       "\\end{center}\n",
       "\n",
       "Notes: \\newline\n",
       " [1] R² is computed without centering (uncentered) since the model does not contain a constant. \\newline\n",
       " [2] Standard Errors assume that the covariance matrix of the errors is correctly specified."
      ],
      "text/plain": [
       "<class 'statsmodels.iolib.summary.Summary'>\n",
       "\"\"\"\n",
       "                                 OLS Regression Results                                \n",
       "=======================================================================================\n",
       "Dep. Variable:                      y   R-squared (uncentered):                   0.985\n",
       "Model:                            OLS   Adj. R-squared (uncentered):              0.984\n",
       "Method:                 Least Squares   F-statistic:                              2006.\n",
       "Date:                Sat, 12 Oct 2024   Prob (F-statistic):                    9.64e-30\n",
       "Time:                        13:31:21   Log-Likelihood:                         -201.22\n",
       "No. Observations:                  32   AIC:                                      404.4\n",
       "Df Residuals:                      31   BIC:                                      405.9\n",
       "Df Model:                           1                                                  \n",
       "Covariance Type:            nonrobust                                                  \n",
       "==============================================================================\n",
       "                 coef    std err          t      P>|t|      [0.025      0.975]\n",
       "------------------------------------------------------------------------------\n",
       "x1             0.0213      0.000     44.784      0.000       0.020       0.022\n",
       "==============================================================================\n",
       "Omnibus:                        4.545   Durbin-Watson:                   0.102\n",
       "Prob(Omnibus):                  0.103   Jarque-Bera (JB):                4.056\n",
       "Skew:                           0.863   Prob(JB):                        0.132\n",
       "Kurtosis:                       2.750   Cond. No.                         1.00\n",
       "==============================================================================\n",
       "\n",
       "Notes:\n",
       "[1] R² is computed without centering (uncentered) since the model does not contain a constant.\n",
       "[2] Standard Errors assume that the covariance matrix of the errors is correctly specified.\n",
       "\"\"\""
      ]
     },
     "execution_count": 11,
     "metadata": {},
     "output_type": "execute_result"
    }
   ],
   "source": [
    "# Model 1\n",
    "model_1 = sm.OLS(y1, X).fit()\n",
    "m1_pval = model_1.t_test(model_1.params).pvalue.item()\n",
    "\n",
    "model_1.summary()"
   ]
  },
  {
   "cell_type": "code",
   "execution_count": 12,
   "metadata": {},
   "outputs": [
    {
     "data": {
      "text/html": [
       "<table class=\"simpletable\">\n",
       "<caption>OLS Regression Results</caption>\n",
       "<tr>\n",
       "  <th>Dep. Variable:</th>            <td>y</td>        <th>  R-squared (uncentered):</th>      <td>   0.991</td>\n",
       "</tr>\n",
       "<tr>\n",
       "  <th>Model:</th>                   <td>OLS</td>       <th>  Adj. R-squared (uncentered):</th> <td>   0.991</td>\n",
       "</tr>\n",
       "<tr>\n",
       "  <th>Method:</th>             <td>Least Squares</td>  <th>  F-statistic:       </th>          <td>   3409.</td>\n",
       "</tr>\n",
       "<tr>\n",
       "  <th>Date:</th>             <td>Sat, 12 Oct 2024</td> <th>  Prob (F-statistic):</th>          <td>2.84e-33</td>\n",
       "</tr>\n",
       "<tr>\n",
       "  <th>Time:</th>                 <td>13:31:21</td>     <th>  Log-Likelihood:    </th>          <td> -194.56</td>\n",
       "</tr>\n",
       "<tr>\n",
       "  <th>No. Observations:</th>      <td>    32</td>      <th>  AIC:               </th>          <td>   391.1</td>\n",
       "</tr>\n",
       "<tr>\n",
       "  <th>Df Residuals:</th>          <td>    31</td>      <th>  BIC:               </th>          <td>   392.6</td>\n",
       "</tr>\n",
       "<tr>\n",
       "  <th>Df Model:</th>              <td>     1</td>      <th>                     </th>              <td> </td>   \n",
       "</tr>\n",
       "<tr>\n",
       "  <th>Covariance Type:</th>      <td>nonrobust</td>    <th>                     </th>              <td> </td>   \n",
       "</tr>\n",
       "</table>\n",
       "<table class=\"simpletable\">\n",
       "<tr>\n",
       "   <td></td>     <th>coef</th>     <th>std err</th>      <th>t</th>      <th>P>|t|</th>  <th>[0.025</th>    <th>0.975]</th>  \n",
       "</tr>\n",
       "<tr>\n",
       "  <th>x1</th> <td>    0.0225</td> <td>    0.000</td> <td>   58.391</td> <td> 0.000</td> <td>    0.022</td> <td>    0.023</td>\n",
       "</tr>\n",
       "</table>\n",
       "<table class=\"simpletable\">\n",
       "<tr>\n",
       "  <th>Omnibus:</th>       <td> 4.638</td> <th>  Durbin-Watson:     </th> <td>   0.178</td>\n",
       "</tr>\n",
       "<tr>\n",
       "  <th>Prob(Omnibus):</th> <td> 0.098</td> <th>  Jarque-Bera (JB):  </th> <td>   4.038</td>\n",
       "</tr>\n",
       "<tr>\n",
       "  <th>Skew:</th>          <td> 0.867</td> <th>  Prob(JB):          </th> <td>   0.133</td>\n",
       "</tr>\n",
       "<tr>\n",
       "  <th>Kurtosis:</th>      <td> 2.845</td> <th>  Cond. No.          </th> <td>    1.00</td>\n",
       "</tr>\n",
       "</table><br/><br/>Notes:<br/>[1] R² is computed without centering (uncentered) since the model does not contain a constant.<br/>[2] Standard Errors assume that the covariance matrix of the errors is correctly specified."
      ],
      "text/latex": [
       "\\begin{center}\n",
       "\\begin{tabular}{lclc}\n",
       "\\toprule\n",
       "\\textbf{Dep. Variable:}    &        y         & \\textbf{  R-squared (uncentered):}      &     0.991   \\\\\n",
       "\\textbf{Model:}            &       OLS        & \\textbf{  Adj. R-squared (uncentered):} &     0.991   \\\\\n",
       "\\textbf{Method:}           &  Least Squares   & \\textbf{  F-statistic:       }          &     3409.   \\\\\n",
       "\\textbf{Date:}             & Sat, 12 Oct 2024 & \\textbf{  Prob (F-statistic):}          &  2.84e-33   \\\\\n",
       "\\textbf{Time:}             &     13:31:21     & \\textbf{  Log-Likelihood:    }          &   -194.56   \\\\\n",
       "\\textbf{No. Observations:} &          32      & \\textbf{  AIC:               }          &     391.1   \\\\\n",
       "\\textbf{Df Residuals:}     &          31      & \\textbf{  BIC:               }          &     392.6   \\\\\n",
       "\\textbf{Df Model:}         &           1      & \\textbf{                     }          &             \\\\\n",
       "\\textbf{Covariance Type:}  &    nonrobust     & \\textbf{                     }          &             \\\\\n",
       "\\bottomrule\n",
       "\\end{tabular}\n",
       "\\begin{tabular}{lcccccc}\n",
       "            & \\textbf{coef} & \\textbf{std err} & \\textbf{t} & \\textbf{P$> |$t$|$} & \\textbf{[0.025} & \\textbf{0.975]}  \\\\\n",
       "\\midrule\n",
       "\\textbf{x1} &       0.0225  &        0.000     &    58.391  &         0.000        &        0.022    &        0.023     \\\\\n",
       "\\bottomrule\n",
       "\\end{tabular}\n",
       "\\begin{tabular}{lclc}\n",
       "\\textbf{Omnibus:}       &  4.638 & \\textbf{  Durbin-Watson:     } &    0.178  \\\\\n",
       "\\textbf{Prob(Omnibus):} &  0.098 & \\textbf{  Jarque-Bera (JB):  } &    4.038  \\\\\n",
       "\\textbf{Skew:}          &  0.867 & \\textbf{  Prob(JB):          } &    0.133  \\\\\n",
       "\\textbf{Kurtosis:}      &  2.845 & \\textbf{  Cond. No.          } &     1.00  \\\\\n",
       "\\bottomrule\n",
       "\\end{tabular}\n",
       "%\\caption{OLS Regression Results}\n",
       "\\end{center}\n",
       "\n",
       "Notes: \\newline\n",
       " [1] R² is computed without centering (uncentered) since the model does not contain a constant. \\newline\n",
       " [2] Standard Errors assume that the covariance matrix of the errors is correctly specified."
      ],
      "text/plain": [
       "<class 'statsmodels.iolib.summary.Summary'>\n",
       "\"\"\"\n",
       "                                 OLS Regression Results                                \n",
       "=======================================================================================\n",
       "Dep. Variable:                      y   R-squared (uncentered):                   0.991\n",
       "Model:                            OLS   Adj. R-squared (uncentered):              0.991\n",
       "Method:                 Least Squares   F-statistic:                              3409.\n",
       "Date:                Sat, 12 Oct 2024   Prob (F-statistic):                    2.84e-33\n",
       "Time:                        13:31:21   Log-Likelihood:                         -194.56\n",
       "No. Observations:                  32   AIC:                                      391.1\n",
       "Df Residuals:                      31   BIC:                                      392.6\n",
       "Df Model:                           1                                                  \n",
       "Covariance Type:            nonrobust                                                  \n",
       "==============================================================================\n",
       "                 coef    std err          t      P>|t|      [0.025      0.975]\n",
       "------------------------------------------------------------------------------\n",
       "x1             0.0225      0.000     58.391      0.000       0.022       0.023\n",
       "==============================================================================\n",
       "Omnibus:                        4.638   Durbin-Watson:                   0.178\n",
       "Prob(Omnibus):                  0.098   Jarque-Bera (JB):                4.038\n",
       "Skew:                           0.867   Prob(JB):                        0.133\n",
       "Kurtosis:                       2.845   Cond. No.                         1.00\n",
       "==============================================================================\n",
       "\n",
       "Notes:\n",
       "[1] R² is computed without centering (uncentered) since the model does not contain a constant.\n",
       "[2] Standard Errors assume that the covariance matrix of the errors is correctly specified.\n",
       "\"\"\""
      ]
     },
     "execution_count": 12,
     "metadata": {},
     "output_type": "execute_result"
    }
   ],
   "source": [
    "# Model 2\n",
    "model_2 = sm.OLS(y2, X).fit()\n",
    "m2_pval = model_2.t_test(model_2.params).pvalue.item() / 2.0 # Divde by two as 1-tailed t-test\n",
    "\n",
    "model_2.summary()"
   ]
  },
  {
   "cell_type": "code",
   "execution_count": 13,
   "metadata": {},
   "outputs": [
    {
     "name": "stdout",
     "output_type": "stream",
     "text": [
      "Model 1 coefficient: 0.0213\n",
      "Model 2 coefficient: 0.0225\n"
     ]
    }
   ],
   "source": [
    "# Model Coefficients\n",
    "print(f\"Model 1 coefficient: {model_1.params.item():.4f}\")\n",
    "print(f\"Model 2 coefficient: {model_2.params.item():.4f}\")"
   ]
  },
  {
   "cell_type": "code",
   "execution_count": 14,
   "metadata": {},
   "outputs": [
    {
     "name": "stdout",
     "output_type": "stream",
     "text": [
      "Model 1 p-value: 9.64e-30\n",
      "Model 2 p-value: 1.42e-33\n"
     ]
    }
   ],
   "source": [
    "# p-values\n",
    "print(f\"Model 1 p-value: {m1_pval:.2e}\")\n",
    "print(f\"Model 2 p-value: {m2_pval:.2e}\")"
   ]
  },
  {
   "cell_type": "markdown",
   "metadata": {},
   "source": [
    "#### Conclusion\n",
    "\n",
    "We found that for both models, The p-values were significantly lower than our significance level $\\alpha=0.05$ and we therefore have very strong evidence to reject both null hypotheses that were tested.\n",
    "\n",
    "We conclude that there is "
   ]
  },
  {
   "cell_type": "code",
   "execution_count": null,
   "metadata": {},
   "outputs": [],
   "source": []
  }
 ],
 "metadata": {
  "kernelspec": {
   "display_name": "base",
   "language": "python",
   "name": "python3"
  },
  "language_info": {
   "codemirror_mode": {
    "name": "ipython",
    "version": 3
   },
   "file_extension": ".py",
   "mimetype": "text/x-python",
   "name": "python",
   "nbconvert_exporter": "python",
   "pygments_lexer": "ipython3",
   "version": "3.11.5"
  }
 },
 "nbformat": 4,
 "nbformat_minor": 2
}
