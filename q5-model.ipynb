{
 "cells": [
  {
   "cell_type": "markdown",
   "metadata": {},
   "source": [
    "## Question 5\n",
    "\n",
    "For this question I decided to explore the relationship between salaries and wages & inflation. I used CPI as my measure of inflation.\n",
    "\n",
    "Prior to conducting any analysis, intuitively I suspected there would be a positive association between salaries and wages and CPI.\n",
    "\n",
    "I did some very quick googling just to ensure that my approach made sense- and found two documents which further shaped the direction of my analyis. These documents are included in this repository in the `Supporting Documents` directory.\n",
    "\n",
    "<u>Supporting Documents:</u>\n",
    "\n",
    "1. dp09-06-Analysing wage and price dynamics in NZ\n",
    "2. p20045coll4_54-Exploring Tradable and Non-Tradable Inflation in Consumer Prices\n",
    "\n",
    "\n",
    "In the Abstract of the first document listed above it says:\n",
    "\n",
    "> _We find that there is a joint causality between wages and disaggregate inflation. An increase in wage inflation forecasts an increase in non-tradable inflation._\n",
    "\n",
    "I found on the Stats NZ website that they publish a tradable and non-tradable inflation series, and given the quote above it made sense to me to use this data for my analysis.\n",
    "\n",
    "I decided to create two models of the form:\n",
    "\n",
    "$$ \\text{Model 1:} \\ Y_1 = \\beta_1X_1 + \\beta_0$$\n",
    "\n",
    "$$ \\text{Model 2:} \\ Y_2 = \\beta_1X_1 + \\beta_0$$\n",
    "\n",
    "Where the independent variable of each model is:\n",
    "\n",
    "$Y_1$: is New Zealand's CPI for Tradeable groups.\n",
    "\n",
    "$Y_2$: is New Zealand's CPI for Non-tradeable groups.\n",
    "\n",
    "and the explanatory variable of each model is:\n",
    "\n",
    "$X_1$: is Salaries and Wages data\n",
    "\n",
    "I thought that Simple Linear Regression was a sensible and appropriate choice, as it was of interest to me to interpret the $\\beta$ coefficients, to understand the association between salaries and wages and inflation in NZ.\n",
    "\n",
    "Given the quote above showing that previous research had showed a positive association between wages and non-tradeable inflation, I decided that I would perform a 1-tailed test, testing only for a positive association.\n",
    "As I had no reference for how salaries and wages may affect Tradeable inflation, I thought a 2-sided test appropriate.\n",
    "\n",
    "**Distinction between Tradeable and Non-Tradeable Goods and Services:**\n",
    "\n",
    "> Goods and services whose prices are primarily influenced by world prices and international supply and demand, and whose prices are primarily determined by factors such as domestic demand and supply. Goods and services which enter international trade and satisfy the law of one price, or at an appropriate relative price that could satisfy the law of one price, can be defined as tradable. All other goods and services will be defined as non-tradable.\n",
    "\n",
    "Further information about the CPI and how it is calculated can be found on the Stats NZ website- https://www.stats.govt.nz/topics/consumers-price-index\n"
   ]
  },
  {
   "cell_type": "markdown",
   "metadata": {},
   "source": [
    "#### Hypothesis:\n",
    "\n",
    "__Model 1:__\n",
    "\n",
    "$\\mathcal{H}_0: \\text{There is no association between salaries and wages and the CPI for Tradeable groups in New Zealand}$ \\\n",
    "$\\mathcal{H}_1: \\text{There is an association between salaries and wages and the CPI for Tradeable groups in New Zealand}$\n",
    "\n",
    "\n",
    "\n",
    "__Model 2:__\n",
    "\n",
    "$\\mathcal{H}_0: \\text{There is no positive association between salaries and wages and the CPI for Non-tradeable groups in New Zealand}$ \\\n",
    "$\\mathcal{H}_1: \\text{There is a positive association between salaries and wages and the CPI for Non-t\n",
    "radeable groups in New Zealand}$\n",
    "\n",
    "\n"
   ]
  },
  {
   "cell_type": "code",
   "execution_count": 1,
   "metadata": {},
   "outputs": [],
   "source": [
    "import pandas as pd\n",
    "import numpy as np\n",
    "import matplotlib.pyplot as plt\n",
    "from sklearn.linear_model import LinearRegression\n",
    "\n",
    "SALARIES_AND_WAGES_FILENAME = \"salaries_and_wages_df.xlsx\"\n",
    "CPI_FILENAME = \"consumers-price-index-june-2024-quarter-seasonally-adjusted.csv\""
   ]
  },
  {
   "cell_type": "code",
   "execution_count": 2,
   "metadata": {},
   "outputs": [],
   "source": [
    "salaries_and_wages = pd.read_excel(f'./data/{SALARIES_AND_WAGES_FILENAME}')\n",
    "cpi = pd.read_csv(f'./data/{CPI_FILENAME}')"
   ]
  },
  {
   "cell_type": "code",
   "execution_count": null,
   "metadata": {},
   "outputs": [],
   "source": []
  },
  {
   "cell_type": "code",
   "execution_count": null,
   "metadata": {},
   "outputs": [],
   "source": []
  },
  {
   "cell_type": "code",
   "execution_count": null,
   "metadata": {},
   "outputs": [],
   "source": []
  },
  {
   "cell_type": "code",
   "execution_count": null,
   "metadata": {},
   "outputs": [],
   "source": []
  }
 ],
 "metadata": {
  "kernelspec": {
   "display_name": "marcus",
   "language": "python",
   "name": "python3"
  },
  "language_info": {
   "codemirror_mode": {
    "name": "ipython",
    "version": 3
   },
   "file_extension": ".py",
   "mimetype": "text/x-python",
   "name": "python",
   "nbconvert_exporter": "python",
   "pygments_lexer": "ipython3",
   "version": "3.11.5"
  }
 },
 "nbformat": 4,
 "nbformat_minor": 2
}
