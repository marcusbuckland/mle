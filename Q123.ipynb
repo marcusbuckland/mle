{
 "cells": [
  {
   "cell_type": "markdown",
   "metadata": {},
   "source": [
    "### SQL Questions for Technical Test"
   ]
  },
  {
   "cell_type": "markdown",
   "metadata": {},
   "source": [
    "#### Question 1\n",
    "\n",
    "Of the industries where salaries and wages data did not exist in 2016, 'Retail Trade' was the industry with the highest average value for actual filled jobs across time with and average number of Actual filled jobs of 194,000 (rounded to the nearest thousand.)\n",
    "\n",
    "#### Question 2\n",
    "\n",
    "The year/month combination and industry that had the second highest seasonally adjusted operating income sales across all the business industries categorised as NZSIOC level 2 was `2023.03` and `Wholesale Trade` which had Seasonally adjusted Sales and Operating Income of NZD $38,810,022,000\n",
    "\n",
    "#### Question 3\n",
    "\n",
    "SQL Query below"
   ]
  },
  {
   "cell_type": "code",
   "execution_count": 1,
   "metadata": {},
   "outputs": [],
   "source": [
    "import duckdb\n",
    "import pandas as pd"
   ]
  },
  {
   "cell_type": "code",
   "execution_count": 2,
   "metadata": {},
   "outputs": [],
   "source": [
    "# All code used to create these tidied tables found in notebook.ipynb\n",
    "salaries_and_wages_df = pd.read_excel('data/salaries_and_wages_df.xlsx')\n",
    "filled_jobs_by_industry_df = pd.read_excel('data/filled_jobs_by_industry_df.xlsx')\n",
    "filled_jobs_by_territorial_authority_df = pd.read_excel('data/filled_jobs_by_territorial_authority_df.xlsx')\n",
    "sales_and_operating_income_df = pd.read_excel('data/sales_and_operating_income_df.xlsx')\n",
    "\n",
    "# salaries_and_wages table\n",
    "duckdb.sql(\"\"\"\n",
    "        CREATE TABLE salaries_and_wages\n",
    "        AS SELECT *\n",
    "        FROM salaries_and_wages_df\n",
    "        \"\"\")\n",
    "\n",
    "# employment_by_industry table\n",
    "duckdb.sql(\"\"\"\n",
    "        CREATE TABLE employment_by_industry\n",
    "        AS SELECT *\n",
    "        FROM filled_jobs_by_industry_df\n",
    "        \"\"\")\n",
    "\n",
    "# employment_by_territorial_authority table\n",
    "duckdb.sql(\"\"\"\n",
    "        CREATE TABLE employment_by_territorial_authority\n",
    "        AS SELECT *\n",
    "        FROM filled_jobs_by_territorial_authority_df\n",
    "        \"\"\")\n",
    "\n",
    "# sales and operating income table\n",
    "duckdb.sql(\"\"\"\n",
    "        CREATE TABLE sales_and_operating_income\n",
    "        AS SELECT *\n",
    "        FROM sales_and_operating_income_df\n",
    "        \"\"\")"
   ]
  },
  {
   "cell_type": "code",
   "execution_count": 3,
   "metadata": {},
   "outputs": [
    {
     "data": {
      "text/plain": [
       "┌───────────────┬────────────────────┐\n",
       "│ Industry_Type │  avg_filled_jobs   │\n",
       "│    varchar    │       double       │\n",
       "├───────────────┼────────────────────┤\n",
       "│ Retail Trade  │ 194053.71153846153 │\n",
       "└───────────────┴────────────────────┘"
      ]
     },
     "execution_count": 3,
     "metadata": {},
     "output_type": "execute_result"
    }
   ],
   "source": [
    "# Question 1\n",
    "duckdb.sql(\"\"\"\n",
    "    WITH industries_of_interest AS (\n",
    "        SELECT industry_type, MIN(period) as earliest_period\n",
    "        FROM salaries_and_wages\n",
    "        GROUP BY industry_type\n",
    "        HAVING earliest_period > 2016.13\n",
    "    )\n",
    "    SELECT industry_type, AVG(data_value) as avg_filled_jobs\n",
    "    FROM employment_by_industry\n",
    "    WHERE Adjustment = 'Actual'\n",
    "    GROUP BY industry_type\n",
    "    HAVING industry_type IN (SELECT industry_type FROM industries_of_interest)\n",
    "    ORDER BY avg_filled_jobs DESC\n",
    "    LIMIT 1;\n",
    "\"\"\")"
   ]
  },
  {
   "cell_type": "code",
   "execution_count": 4,
   "metadata": {},
   "outputs": [
    {
     "data": {
      "text/plain": [
       "┌─────────┬─────────────────┬────────────────────────────┐\n",
       "│ Period  │  Industry_Type  │ sales_and_operating_income │\n",
       "│ double  │     varchar     │           double           │\n",
       "├─────────┼─────────────────┼────────────────────────────┤\n",
       "│ 2023.03 │ Wholesale Trade │                  38810.022 │\n",
       "└─────────┴─────────────────┴────────────────────────────┘"
      ]
     },
     "execution_count": 4,
     "metadata": {},
     "output_type": "execute_result"
    }
   ],
   "source": [
    "# Question 2\n",
    "duckdb.sql(\"\"\"\n",
    "        SELECT Period, Industry_Type, Data_value as sales_and_operating_income\n",
    "        FROM sales_and_operating_income\n",
    "        WHERE Adjustment = 'Seasonally adjusted'\n",
    "        AND NZIOC_Level = 2\n",
    "        ORDER BY Data_value DESC\n",
    "        LIMIT 1 OFFSET 1\n",
    "        \"\"\")"
   ]
  },
  {
   "cell_type": "code",
   "execution_count": 5,
   "metadata": {},
   "outputs": [
    {
     "data": {
      "text/plain": [
       "┌───────────────────────┬─────────┬────────────────────────┐\n",
       "│ Territorial_Authority │ Period  │ cumulative_filled_jobs │\n",
       "│        varchar        │ double  │         double         │\n",
       "├───────────────────────┼─────────┼────────────────────────┤\n",
       "│ Auckland              │ 2011.06 │              1726876.0 │\n",
       "│ Auckland              │ 2011.09 │              3451994.0 │\n",
       "│ Auckland              │ 2011.12 │              5207022.0 │\n",
       "│ Auckland              │ 2012.03 │              6935935.0 │\n",
       "│ Auckland              │ 2012.06 │              8693257.0 │\n",
       "│ Auckland              │ 2012.09 │             10430964.0 │\n",
       "│ Auckland              │ 2012.12 │             12200120.0 │\n",
       "│ Auckland              │ 2013.03 │             13957409.0 │\n",
       "│ Auckland              │ 2013.06 │             15745761.0 │\n",
       "│ Auckland              │ 2013.09 │             17518802.0 │\n",
       "│    ·                  │    ·    │                  ·     │\n",
       "│    ·                  │    ·    │                  ·     │\n",
       "│    ·                  │    ·    │                  ·     │\n",
       "│ Auckland              │ 2021.12 │             83526333.0 │\n",
       "│ Auckland              │ 2022.03 │             85722502.0 │\n",
       "│ Auckland              │ 2022.06 │             87931443.0 │\n",
       "│ Auckland              │ 2022.09 │             90140781.0 │\n",
       "│ Auckland              │ 2022.12 │             92397232.0 │\n",
       "│ Auckland              │ 2023.03 │             94655085.0 │\n",
       "│ Auckland              │ 2023.06 │             96945082.0 │\n",
       "│ Auckland              │ 2023.09 │             99221469.0 │\n",
       "│ Auckland              │ 2023.12 │            101542771.0 │\n",
       "│ Auckland              │ 2024.03 │            103846427.0 │\n",
       "├───────────────────────┴─────────┴────────────────────────┤\n",
       "│ 52 rows (20 shown)                             3 columns │\n",
       "└──────────────────────────────────────────────────────────┘"
      ]
     },
     "execution_count": 5,
     "metadata": {},
     "output_type": "execute_result"
    }
   ],
   "source": [
    "# Question 3\n",
    "duckdb.sql(\"\"\"\n",
    "    SELECT a.Territorial_Authority, a.Period, SUM(b.Data_value) as cumulative_filled_jobs\n",
    "    FROM employment_by_territorial_authority a\n",
    "    JOIN employment_by_territorial_authority b\n",
    "    ON a.Period >= b.Period\n",
    "    WHERE a.Territorial_Authority = (\n",
    "        SELECT Territorial_Authority\n",
    "        FROM employment_by_territorial_authority\n",
    "        GROUP BY Territorial_Authority\n",
    "        ORDER BY AVG(Data_value) DESC\n",
    "        LIMIT 1\n",
    "    )\n",
    "    GROUP BY a.Territorial_Authority, a.Period\n",
    "    ORDER BY a.Period;\n",
    "\"\"\")"
   ]
  }
 ],
 "metadata": {
  "kernelspec": {
   "display_name": "marcus",
   "language": "python",
   "name": "python3"
  },
  "language_info": {
   "codemirror_mode": {
    "name": "ipython",
    "version": 3
   },
   "file_extension": ".py",
   "mimetype": "text/x-python",
   "name": "python",
   "nbconvert_exporter": "python",
   "pygments_lexer": "ipython3",
   "version": "3.11.5"
  }
 },
 "nbformat": 4,
 "nbformat_minor": 2
}
