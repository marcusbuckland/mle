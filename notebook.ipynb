{
 "cells": [
  {
   "cell_type": "markdown",
   "metadata": {},
   "source": [
    "#### BNZ Advanced Analytics MLE Technical Exercise - Marcus David Buckland\n",
    "\n",
    "Code & Responses to the questions found in `Instructions.pdf` below."
   ]
  },
  {
   "cell_type": "code",
   "execution_count": 1,
   "metadata": {},
   "outputs": [],
   "source": [
    "import duckdb\n",
    "import pandas as pd\n",
    "import numpy as np\n",
    "import matplotlib.pyplot as plt\n",
    "rng = np.random.default_rng(42)"
   ]
  },
  {
   "cell_type": "code",
   "execution_count": 2,
   "metadata": {},
   "outputs": [],
   "source": [
    "EMPLOYMENT_DATA_FILENAME = 'business-employment-data-march-2024-quarter.zip'\n",
    "FINANCIAL_DATA_FILENAME = 'business-financial-data-march-2024.zip'"
   ]
  },
  {
   "cell_type": "code",
   "execution_count": 3,
   "metadata": {},
   "outputs": [
    {
     "data": {
      "text/html": [
       "<div>\n",
       "<style scoped>\n",
       "    .dataframe tbody tr th:only-of-type {\n",
       "        vertical-align: middle;\n",
       "    }\n",
       "\n",
       "    .dataframe tbody tr th {\n",
       "        vertical-align: top;\n",
       "    }\n",
       "\n",
       "    .dataframe thead th {\n",
       "        text-align: right;\n",
       "    }\n",
       "</style>\n",
       "<table border=\"1\" class=\"dataframe\">\n",
       "  <thead>\n",
       "    <tr style=\"text-align: right;\">\n",
       "      <th></th>\n",
       "      <th>Series_reference</th>\n",
       "      <th>Period</th>\n",
       "      <th>Data_value</th>\n",
       "      <th>Suppressed</th>\n",
       "      <th>STATUS</th>\n",
       "      <th>UNITS</th>\n",
       "      <th>Magnitude</th>\n",
       "      <th>Subject</th>\n",
       "      <th>Group</th>\n",
       "      <th>Series_title_1</th>\n",
       "      <th>Series_title_2</th>\n",
       "      <th>Series_title_3</th>\n",
       "      <th>Series_title_4</th>\n",
       "      <th>Series_title_5</th>\n",
       "    </tr>\n",
       "  </thead>\n",
       "  <tbody>\n",
       "    <tr>\n",
       "      <th>0</th>\n",
       "      <td>BDCQ.SEA1AA</td>\n",
       "      <td>2011.06</td>\n",
       "      <td>80078.0</td>\n",
       "      <td>NaN</td>\n",
       "      <td>F</td>\n",
       "      <td>Number</td>\n",
       "      <td>0</td>\n",
       "      <td>Business Data Collection - BDC</td>\n",
       "      <td>Industry by employment variable</td>\n",
       "      <td>Filled jobs</td>\n",
       "      <td>Agriculture, Forestry and Fishing</td>\n",
       "      <td>Actual</td>\n",
       "      <td>NaN</td>\n",
       "      <td>NaN</td>\n",
       "    </tr>\n",
       "    <tr>\n",
       "      <th>1</th>\n",
       "      <td>BDCQ.SEA1AA</td>\n",
       "      <td>2011.09</td>\n",
       "      <td>78324.0</td>\n",
       "      <td>NaN</td>\n",
       "      <td>F</td>\n",
       "      <td>Number</td>\n",
       "      <td>0</td>\n",
       "      <td>Business Data Collection - BDC</td>\n",
       "      <td>Industry by employment variable</td>\n",
       "      <td>Filled jobs</td>\n",
       "      <td>Agriculture, Forestry and Fishing</td>\n",
       "      <td>Actual</td>\n",
       "      <td>NaN</td>\n",
       "      <td>NaN</td>\n",
       "    </tr>\n",
       "    <tr>\n",
       "      <th>2</th>\n",
       "      <td>BDCQ.SEA1AA</td>\n",
       "      <td>2011.12</td>\n",
       "      <td>85850.0</td>\n",
       "      <td>NaN</td>\n",
       "      <td>F</td>\n",
       "      <td>Number</td>\n",
       "      <td>0</td>\n",
       "      <td>Business Data Collection - BDC</td>\n",
       "      <td>Industry by employment variable</td>\n",
       "      <td>Filled jobs</td>\n",
       "      <td>Agriculture, Forestry and Fishing</td>\n",
       "      <td>Actual</td>\n",
       "      <td>NaN</td>\n",
       "      <td>NaN</td>\n",
       "    </tr>\n",
       "  </tbody>\n",
       "</table>\n",
       "</div>"
      ],
      "text/plain": [
       "  Series_reference   Period  Data_value Suppressed STATUS   UNITS  Magnitude  \\\n",
       "0      BDCQ.SEA1AA  2011.06     80078.0        NaN      F  Number          0   \n",
       "1      BDCQ.SEA1AA  2011.09     78324.0        NaN      F  Number          0   \n",
       "2      BDCQ.SEA1AA  2011.12     85850.0        NaN      F  Number          0   \n",
       "\n",
       "                          Subject                            Group  \\\n",
       "0  Business Data Collection - BDC  Industry by employment variable   \n",
       "1  Business Data Collection - BDC  Industry by employment variable   \n",
       "2  Business Data Collection - BDC  Industry by employment variable   \n",
       "\n",
       "  Series_title_1                     Series_title_2 Series_title_3  \\\n",
       "0    Filled jobs  Agriculture, Forestry and Fishing         Actual   \n",
       "1    Filled jobs  Agriculture, Forestry and Fishing         Actual   \n",
       "2    Filled jobs  Agriculture, Forestry and Fishing         Actual   \n",
       "\n",
       "   Series_title_4  Series_title_5  \n",
       "0             NaN             NaN  \n",
       "1             NaN             NaN  \n",
       "2             NaN             NaN  "
      ]
     },
     "execution_count": 3,
     "metadata": {},
     "output_type": "execute_result"
    }
   ],
   "source": [
    "employment_df = pd.read_csv(f'data/{EMPLOYMENT_DATA_FILENAME}')\n",
    "employment_df.head(3)"
   ]
  },
  {
   "cell_type": "code",
   "execution_count": 4,
   "metadata": {},
   "outputs": [
    {
     "data": {
      "text/html": [
       "<div>\n",
       "<style scoped>\n",
       "    .dataframe tbody tr th:only-of-type {\n",
       "        vertical-align: middle;\n",
       "    }\n",
       "\n",
       "    .dataframe tbody tr th {\n",
       "        vertical-align: top;\n",
       "    }\n",
       "\n",
       "    .dataframe thead th {\n",
       "        text-align: right;\n",
       "    }\n",
       "</style>\n",
       "<table border=\"1\" class=\"dataframe\">\n",
       "  <thead>\n",
       "    <tr style=\"text-align: right;\">\n",
       "      <th></th>\n",
       "      <th>Series_reference</th>\n",
       "      <th>Period</th>\n",
       "      <th>Data_value</th>\n",
       "      <th>Suppressed</th>\n",
       "      <th>STATUS</th>\n",
       "      <th>UNITS</th>\n",
       "      <th>Magnitude</th>\n",
       "      <th>Subject</th>\n",
       "      <th>Group</th>\n",
       "      <th>Series_title_1</th>\n",
       "      <th>Series_title_2</th>\n",
       "      <th>Series_title_3</th>\n",
       "      <th>Series_title_4</th>\n",
       "      <th>Series_title_5</th>\n",
       "    </tr>\n",
       "  </thead>\n",
       "  <tbody>\n",
       "    <tr>\n",
       "      <th>0</th>\n",
       "      <td>BDCQ.SF1AA2CA</td>\n",
       "      <td>2016.06</td>\n",
       "      <td>1116.386</td>\n",
       "      <td>NaN</td>\n",
       "      <td>F</td>\n",
       "      <td>Dollars</td>\n",
       "      <td>6</td>\n",
       "      <td>Business Data Collection - BDC</td>\n",
       "      <td>Industry by financial variable (NZSIOC Level 2)</td>\n",
       "      <td>Sales (operating income)</td>\n",
       "      <td>Forestry and Logging</td>\n",
       "      <td>Current prices</td>\n",
       "      <td>Unadjusted</td>\n",
       "      <td>NaN</td>\n",
       "    </tr>\n",
       "    <tr>\n",
       "      <th>1</th>\n",
       "      <td>BDCQ.SF1AA2CA</td>\n",
       "      <td>2016.09</td>\n",
       "      <td>1070.874</td>\n",
       "      <td>NaN</td>\n",
       "      <td>F</td>\n",
       "      <td>Dollars</td>\n",
       "      <td>6</td>\n",
       "      <td>Business Data Collection - BDC</td>\n",
       "      <td>Industry by financial variable (NZSIOC Level 2)</td>\n",
       "      <td>Sales (operating income)</td>\n",
       "      <td>Forestry and Logging</td>\n",
       "      <td>Current prices</td>\n",
       "      <td>Unadjusted</td>\n",
       "      <td>NaN</td>\n",
       "    </tr>\n",
       "    <tr>\n",
       "      <th>2</th>\n",
       "      <td>BDCQ.SF1AA2CA</td>\n",
       "      <td>2016.12</td>\n",
       "      <td>1054.408</td>\n",
       "      <td>NaN</td>\n",
       "      <td>F</td>\n",
       "      <td>Dollars</td>\n",
       "      <td>6</td>\n",
       "      <td>Business Data Collection - BDC</td>\n",
       "      <td>Industry by financial variable (NZSIOC Level 2)</td>\n",
       "      <td>Sales (operating income)</td>\n",
       "      <td>Forestry and Logging</td>\n",
       "      <td>Current prices</td>\n",
       "      <td>Unadjusted</td>\n",
       "      <td>NaN</td>\n",
       "    </tr>\n",
       "  </tbody>\n",
       "</table>\n",
       "</div>"
      ],
      "text/plain": [
       "  Series_reference   Period  Data_value Suppressed STATUS    UNITS  Magnitude  \\\n",
       "0    BDCQ.SF1AA2CA  2016.06    1116.386        NaN      F  Dollars          6   \n",
       "1    BDCQ.SF1AA2CA  2016.09    1070.874        NaN      F  Dollars          6   \n",
       "2    BDCQ.SF1AA2CA  2016.12    1054.408        NaN      F  Dollars          6   \n",
       "\n",
       "                          Subject  \\\n",
       "0  Business Data Collection - BDC   \n",
       "1  Business Data Collection - BDC   \n",
       "2  Business Data Collection - BDC   \n",
       "\n",
       "                                             Group            Series_title_1  \\\n",
       "0  Industry by financial variable (NZSIOC Level 2)  Sales (operating income)   \n",
       "1  Industry by financial variable (NZSIOC Level 2)  Sales (operating income)   \n",
       "2  Industry by financial variable (NZSIOC Level 2)  Sales (operating income)   \n",
       "\n",
       "         Series_title_2  Series_title_3 Series_title_4  Series_title_5  \n",
       "0  Forestry and Logging  Current prices     Unadjusted             NaN  \n",
       "1  Forestry and Logging  Current prices     Unadjusted             NaN  \n",
       "2  Forestry and Logging  Current prices     Unadjusted             NaN  "
      ]
     },
     "execution_count": 4,
     "metadata": {},
     "output_type": "execute_result"
    }
   ],
   "source": [
    "financials_df = pd.read_csv(f'data/{FINANCIAL_DATA_FILENAME}')\n",
    "financials_df.head(3)"
   ]
  },
  {
   "cell_type": "markdown",
   "metadata": {},
   "source": [
    "### EDA\n",
    "\n",
    "___\n",
    "\n",
    "Before getting underway with the five technical questions, it's prudent to have an understanding of both of the datasets that will be utilsed in answering the questions.\n",
    "\n",
    "These stats.govt.nz website provides the following pages related to these datasets:\n",
    "\n",
    "1. [Business employment data: March 2024 quarter](https://www.stats.govt.nz/information-releases/business-employment-data-march-2024-quarter/)\n",
    "1. [Business financial data: March 2024 quarter](https://www.stats.govt.nz/information-releases/business-financial-data-march-2024-quarter/)\n",
    "\n",
    "<u>The Business employment dataset contains data for 14 tables:</u>\n",
    "\n",
    "1. Actual employment by industry, filled jobs\n",
    "1. Seasonally adjusted employment by industry, filled jobs\n",
    "1. Employment by industry, trend, filled jobs\n",
    "1. Actual employment by industry, total earnings\n",
    "1. Actual employment by sex, filled jobs\n",
    "1. Actual employment by sex, total earnings\n",
    "1. Actual employment by region, filled jobs\n",
    "1. Seasonally adjusted employment by region, filled jobs\n",
    "1. Employment by region, trend, filled jobs\n",
    "1. Actual employment by region, total earnings\n",
    "1. Actual employment by territorial authority, filled jobs\n",
    "1. Actual employment by territorial authority, total earnings\n",
    "1. Actual employment by age, filled jobs\n",
    "1. Actual employment by age, total earnings\n",
    "\n",
    "\n",
    "<u>The Business financial dataset contains data for five tables:</u>\n",
    "\n",
    "1. Business financial data by industry group - actual sales value\t\t\t\t\t\t\t\n",
    "1. Business financial data by industry group - seasonally adjusted sales value\t\t\t\t\t\t\t\n",
    "1. Business financial data by industry group - actual purchases value\t\t\t\t\t\t\t\n",
    "1. Business financial data by industry group - actual salaries and wages values\t\t\t\t\t\t\t\n",
    "1. Business financial data by industry group - actual operating profit values\t\t\t\t\t\t\t"
   ]
  },
  {
   "cell_type": "code",
   "execution_count": 5,
   "metadata": {},
   "outputs": [
    {
     "data": {
      "text/plain": [
       "(7635, 14)"
      ]
     },
     "execution_count": 5,
     "metadata": {},
     "output_type": "execute_result"
    }
   ],
   "source": [
    "# EDA of Financials Dataset\n",
    "financials_df.shape # 7635 rows, 14 columns"
   ]
  },
  {
   "cell_type": "code",
   "execution_count": 6,
   "metadata": {},
   "outputs": [
    {
     "data": {
      "text/plain": [
       "['Series_reference',\n",
       " 'Period',\n",
       " 'Data_value',\n",
       " 'Suppressed',\n",
       " 'STATUS',\n",
       " 'UNITS',\n",
       " 'Magnitude',\n",
       " 'Subject',\n",
       " 'Group',\n",
       " 'Series_title_1',\n",
       " 'Series_title_2',\n",
       " 'Series_title_3',\n",
       " 'Series_title_4',\n",
       " 'Series_title_5']"
      ]
     },
     "execution_count": 6,
     "metadata": {},
     "output_type": "execute_result"
    }
   ],
   "source": [
    "# What are the column names?\n",
    "[x for x in financials_df.columns]"
   ]
  },
  {
   "cell_type": "code",
   "execution_count": 7,
   "metadata": {},
   "outputs": [
    {
     "data": {
      "text/plain": [
       "240"
      ]
     },
     "execution_count": 7,
     "metadata": {},
     "output_type": "execute_result"
    }
   ],
   "source": [
    "financials_df['Series_reference'].nunique() # 240 unique series references in the dataset"
   ]
  },
  {
   "cell_type": "code",
   "execution_count": 8,
   "metadata": {},
   "outputs": [
    {
     "data": {
      "text/plain": [
       "681     BDCQ.SF1CC3CA\n",
       "5909     BDCQ.SF3IICA\n",
       "4997     BDCQ.SF2QQCA\n",
       "3350     BDCQ.SF1PPCT\n",
       "3306     BDCQ.SF1PPCS\n",
       "6555    BDCQ.SF8CC1CA\n",
       "656     BDCQ.SF1CC2CT\n",
       "5324    BDCQ.SF3CC2CA\n",
       "1538     BDCQ.SF1DDCA\n",
       "719     BDCQ.SF1CC3CS\n",
       "Name: Series_reference, dtype: object"
      ]
     },
     "execution_count": 8,
     "metadata": {},
     "output_type": "execute_result"
    }
   ],
   "source": [
    "# Let's examine the Series_reference column- find 10 random examples\n",
    "random_row_numbers = rng.integers(0, len(financials_df), size=10)\n",
    "series_ref_examples =financials_df.loc[random_row_numbers, 'Series_reference']\n",
    "series_ref_examples"
   ]
  },
  {
   "cell_type": "markdown",
   "metadata": {},
   "source": [
    "The series reference can be decomposed- Let's examine in further detail, the first example in our series_ref_examples list: \\\n",
    "* `BDCQ.SF1CC3CA`\n",
    "\n",
    "* The first 3 chars `BDC` tell us that this dataset is part of the `Business data collection` group.\n",
    "* The fourth char `Q` tells us that this data is collected on a `Quarterly` basis\n",
    "\n",
    "Following the full-stop\n",
    "* There are four categories for the next 3 chars: `SF1`, `SF2`, `SF3`, and finally `SF8`. This corresponds to the variable in the column `Series_title_1`.\n",
    "\n",
    "* `SF1`= Sales (operating income)\n",
    "* `SF2`= Purchases and operating expenditure\n",
    "* `SF3`= Salaries and wages\n",
    "* `SF8`= Operating profit\n",
    "\n",
    "The following two chars correspond to the industry type, although it's important to note that it is not an exact 1:1 mapping from char_code : industry type. e.g.\n",
    "\n",
    "`AA` maps to: Forestry and logging, Fishing, Aquaculture and Agriculture, Forestry and Fishing Support Services, Agriculture, Forestry and Fishing \\\n",
    "`BB` is mining \\\n",
    "`CC` maps to 10 \"different\" industries contained within the columns- however, the common theme amongst those 10 industries is Manufacturing. \\\n",
    "`DD` is Electricity, Gas, Water and Waste Services. \\\n",
    "`EE` is Construction\n",
    "\n",
    "The next char futher specifies the industries into their various sub-categories. For example, as mentioned above, `CC` contains manufacturing. If you wish to see each of the industries broken down further, for Manufacturing we see:\n",
    "\n",
    "| Industry Code | Industry                                                      |\n",
    "|---------------|---------------------------------------------------------------|\n",
    "| CC1           | Food, Beverage and Tobacco Product   Manufacturing            |\n",
    "| CC2           | Textile, Leather, Clothing and Footwear Manufacturing         |\n",
    "| CC3           | Wood and Paper Products Manufacturing                         |\n",
    "| CC4           | Printing                                                      |\n",
    "| CC5           | Petroleum, Chemical, Polymer and Rubber Product Manufacturing |\n",
    "| CC6           | Non-Metallic Mineral Product Manufacturing                    |\n",
    "| CC7           | Metal Product Manufacturing                                   |\n",
    "| CC8           | Transport Equipment, Machinery and Equipment Manufacturing    |\n",
    "| CC9           | Furniture and Other Manufacturing                             |\n",
    "| CCC           | Manufacturing                                                 |\n",
    "\n",
    "The next char is always `C` - My assumption is that it stands for `Current` or `Current prices`.\n",
    "\n",
    "Finally, the last three chars can be `A`, `S`, and `T` - these correspond to how the data values may have been adjusted.\n",
    "\n",
    "`A` = Actual \\\n",
    "`S` = Seasonally adjusted \\\n",
    "`T` = Trend\n"
   ]
  },
  {
   "cell_type": "code",
   "execution_count": null,
   "metadata": {},
   "outputs": [],
   "source": []
  },
  {
   "cell_type": "code",
   "execution_count": null,
   "metadata": {},
   "outputs": [],
   "source": []
  }
 ],
 "metadata": {
  "kernelspec": {
   "display_name": "marcus",
   "language": "python",
   "name": "python3"
  },
  "language_info": {
   "codemirror_mode": {
    "name": "ipython",
    "version": 3
   },
   "file_extension": ".py",
   "mimetype": "text/x-python",
   "name": "python",
   "nbconvert_exporter": "python",
   "pygments_lexer": "ipython3",
   "version": "3.11.5"
  }
 },
 "nbformat": 4,
 "nbformat_minor": 2
}
