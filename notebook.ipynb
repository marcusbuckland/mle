{
 "cells": [
  {
   "cell_type": "markdown",
   "metadata": {},
   "source": [
    "#### BNZ Advanced Analytics MLE Technical Exercise - Marcus David Buckland\n",
    "\n",
    "Code & Responses to the questions found in `Instructions.pdf` below."
   ]
  },
  {
   "cell_type": "code",
   "execution_count": 1,
   "metadata": {},
   "outputs": [],
   "source": [
    "import duckdb\n",
    "import pandas as pd\n",
    "import numpy as np\n",
    "import matplotlib.pyplot as plt\n",
    "rng = np.random.default_rng(42)"
   ]
  },
  {
   "cell_type": "code",
   "execution_count": 2,
   "metadata": {},
   "outputs": [],
   "source": [
    "EMPLOYMENT_DATA_FILENAME = 'business-employment-data-march-2024-quarter.zip'\n",
    "FINANCIAL_DATA_FILENAME = 'business-financial-data-march-2024.zip'"
   ]
  },
  {
   "cell_type": "code",
   "execution_count": 3,
   "metadata": {},
   "outputs": [
    {
     "data": {
      "text/html": [
       "<div>\n",
       "<style scoped>\n",
       "    .dataframe tbody tr th:only-of-type {\n",
       "        vertical-align: middle;\n",
       "    }\n",
       "\n",
       "    .dataframe tbody tr th {\n",
       "        vertical-align: top;\n",
       "    }\n",
       "\n",
       "    .dataframe thead th {\n",
       "        text-align: right;\n",
       "    }\n",
       "</style>\n",
       "<table border=\"1\" class=\"dataframe\">\n",
       "  <thead>\n",
       "    <tr style=\"text-align: right;\">\n",
       "      <th></th>\n",
       "      <th>Series_reference</th>\n",
       "      <th>Period</th>\n",
       "      <th>Data_value</th>\n",
       "      <th>Suppressed</th>\n",
       "      <th>STATUS</th>\n",
       "      <th>UNITS</th>\n",
       "      <th>Magnitude</th>\n",
       "      <th>Subject</th>\n",
       "      <th>Group</th>\n",
       "      <th>Series_title_1</th>\n",
       "      <th>Series_title_2</th>\n",
       "      <th>Series_title_3</th>\n",
       "      <th>Series_title_4</th>\n",
       "      <th>Series_title_5</th>\n",
       "    </tr>\n",
       "  </thead>\n",
       "  <tbody>\n",
       "    <tr>\n",
       "      <th>0</th>\n",
       "      <td>BDCQ.SEA1AA</td>\n",
       "      <td>2011.06</td>\n",
       "      <td>80078.0</td>\n",
       "      <td>NaN</td>\n",
       "      <td>F</td>\n",
       "      <td>Number</td>\n",
       "      <td>0</td>\n",
       "      <td>Business Data Collection - BDC</td>\n",
       "      <td>Industry by employment variable</td>\n",
       "      <td>Filled jobs</td>\n",
       "      <td>Agriculture, Forestry and Fishing</td>\n",
       "      <td>Actual</td>\n",
       "      <td>NaN</td>\n",
       "      <td>NaN</td>\n",
       "    </tr>\n",
       "    <tr>\n",
       "      <th>1</th>\n",
       "      <td>BDCQ.SEA1AA</td>\n",
       "      <td>2011.09</td>\n",
       "      <td>78324.0</td>\n",
       "      <td>NaN</td>\n",
       "      <td>F</td>\n",
       "      <td>Number</td>\n",
       "      <td>0</td>\n",
       "      <td>Business Data Collection - BDC</td>\n",
       "      <td>Industry by employment variable</td>\n",
       "      <td>Filled jobs</td>\n",
       "      <td>Agriculture, Forestry and Fishing</td>\n",
       "      <td>Actual</td>\n",
       "      <td>NaN</td>\n",
       "      <td>NaN</td>\n",
       "    </tr>\n",
       "    <tr>\n",
       "      <th>2</th>\n",
       "      <td>BDCQ.SEA1AA</td>\n",
       "      <td>2011.12</td>\n",
       "      <td>85850.0</td>\n",
       "      <td>NaN</td>\n",
       "      <td>F</td>\n",
       "      <td>Number</td>\n",
       "      <td>0</td>\n",
       "      <td>Business Data Collection - BDC</td>\n",
       "      <td>Industry by employment variable</td>\n",
       "      <td>Filled jobs</td>\n",
       "      <td>Agriculture, Forestry and Fishing</td>\n",
       "      <td>Actual</td>\n",
       "      <td>NaN</td>\n",
       "      <td>NaN</td>\n",
       "    </tr>\n",
       "  </tbody>\n",
       "</table>\n",
       "</div>"
      ],
      "text/plain": [
       "  Series_reference   Period  Data_value Suppressed STATUS   UNITS  Magnitude  \\\n",
       "0      BDCQ.SEA1AA  2011.06     80078.0        NaN      F  Number          0   \n",
       "1      BDCQ.SEA1AA  2011.09     78324.0        NaN      F  Number          0   \n",
       "2      BDCQ.SEA1AA  2011.12     85850.0        NaN      F  Number          0   \n",
       "\n",
       "                          Subject                            Group  \\\n",
       "0  Business Data Collection - BDC  Industry by employment variable   \n",
       "1  Business Data Collection - BDC  Industry by employment variable   \n",
       "2  Business Data Collection - BDC  Industry by employment variable   \n",
       "\n",
       "  Series_title_1                     Series_title_2 Series_title_3  \\\n",
       "0    Filled jobs  Agriculture, Forestry and Fishing         Actual   \n",
       "1    Filled jobs  Agriculture, Forestry and Fishing         Actual   \n",
       "2    Filled jobs  Agriculture, Forestry and Fishing         Actual   \n",
       "\n",
       "   Series_title_4  Series_title_5  \n",
       "0             NaN             NaN  \n",
       "1             NaN             NaN  \n",
       "2             NaN             NaN  "
      ]
     },
     "execution_count": 3,
     "metadata": {},
     "output_type": "execute_result"
    }
   ],
   "source": [
    "employment_df = pd.read_csv(f'data/{EMPLOYMENT_DATA_FILENAME}')\n",
    "employment_df.head(3)"
   ]
  },
  {
   "cell_type": "code",
   "execution_count": 4,
   "metadata": {},
   "outputs": [
    {
     "data": {
      "text/html": [
       "<div>\n",
       "<style scoped>\n",
       "    .dataframe tbody tr th:only-of-type {\n",
       "        vertical-align: middle;\n",
       "    }\n",
       "\n",
       "    .dataframe tbody tr th {\n",
       "        vertical-align: top;\n",
       "    }\n",
       "\n",
       "    .dataframe thead th {\n",
       "        text-align: right;\n",
       "    }\n",
       "</style>\n",
       "<table border=\"1\" class=\"dataframe\">\n",
       "  <thead>\n",
       "    <tr style=\"text-align: right;\">\n",
       "      <th></th>\n",
       "      <th>Series_reference</th>\n",
       "      <th>Period</th>\n",
       "      <th>Data_value</th>\n",
       "      <th>Suppressed</th>\n",
       "      <th>STATUS</th>\n",
       "      <th>UNITS</th>\n",
       "      <th>Magnitude</th>\n",
       "      <th>Subject</th>\n",
       "      <th>Group</th>\n",
       "      <th>Series_title_1</th>\n",
       "      <th>Series_title_2</th>\n",
       "      <th>Series_title_3</th>\n",
       "      <th>Series_title_4</th>\n",
       "      <th>Series_title_5</th>\n",
       "    </tr>\n",
       "  </thead>\n",
       "  <tbody>\n",
       "    <tr>\n",
       "      <th>0</th>\n",
       "      <td>BDCQ.SF1AA2CA</td>\n",
       "      <td>2016.06</td>\n",
       "      <td>1116.386</td>\n",
       "      <td>NaN</td>\n",
       "      <td>F</td>\n",
       "      <td>Dollars</td>\n",
       "      <td>6</td>\n",
       "      <td>Business Data Collection - BDC</td>\n",
       "      <td>Industry by financial variable (NZSIOC Level 2)</td>\n",
       "      <td>Sales (operating income)</td>\n",
       "      <td>Forestry and Logging</td>\n",
       "      <td>Current prices</td>\n",
       "      <td>Unadjusted</td>\n",
       "      <td>NaN</td>\n",
       "    </tr>\n",
       "    <tr>\n",
       "      <th>1</th>\n",
       "      <td>BDCQ.SF1AA2CA</td>\n",
       "      <td>2016.09</td>\n",
       "      <td>1070.874</td>\n",
       "      <td>NaN</td>\n",
       "      <td>F</td>\n",
       "      <td>Dollars</td>\n",
       "      <td>6</td>\n",
       "      <td>Business Data Collection - BDC</td>\n",
       "      <td>Industry by financial variable (NZSIOC Level 2)</td>\n",
       "      <td>Sales (operating income)</td>\n",
       "      <td>Forestry and Logging</td>\n",
       "      <td>Current prices</td>\n",
       "      <td>Unadjusted</td>\n",
       "      <td>NaN</td>\n",
       "    </tr>\n",
       "    <tr>\n",
       "      <th>2</th>\n",
       "      <td>BDCQ.SF1AA2CA</td>\n",
       "      <td>2016.12</td>\n",
       "      <td>1054.408</td>\n",
       "      <td>NaN</td>\n",
       "      <td>F</td>\n",
       "      <td>Dollars</td>\n",
       "      <td>6</td>\n",
       "      <td>Business Data Collection - BDC</td>\n",
       "      <td>Industry by financial variable (NZSIOC Level 2)</td>\n",
       "      <td>Sales (operating income)</td>\n",
       "      <td>Forestry and Logging</td>\n",
       "      <td>Current prices</td>\n",
       "      <td>Unadjusted</td>\n",
       "      <td>NaN</td>\n",
       "    </tr>\n",
       "  </tbody>\n",
       "</table>\n",
       "</div>"
      ],
      "text/plain": [
       "  Series_reference   Period  Data_value Suppressed STATUS    UNITS  Magnitude  \\\n",
       "0    BDCQ.SF1AA2CA  2016.06    1116.386        NaN      F  Dollars          6   \n",
       "1    BDCQ.SF1AA2CA  2016.09    1070.874        NaN      F  Dollars          6   \n",
       "2    BDCQ.SF1AA2CA  2016.12    1054.408        NaN      F  Dollars          6   \n",
       "\n",
       "                          Subject  \\\n",
       "0  Business Data Collection - BDC   \n",
       "1  Business Data Collection - BDC   \n",
       "2  Business Data Collection - BDC   \n",
       "\n",
       "                                             Group            Series_title_1  \\\n",
       "0  Industry by financial variable (NZSIOC Level 2)  Sales (operating income)   \n",
       "1  Industry by financial variable (NZSIOC Level 2)  Sales (operating income)   \n",
       "2  Industry by financial variable (NZSIOC Level 2)  Sales (operating income)   \n",
       "\n",
       "         Series_title_2  Series_title_3 Series_title_4  Series_title_5  \n",
       "0  Forestry and Logging  Current prices     Unadjusted             NaN  \n",
       "1  Forestry and Logging  Current prices     Unadjusted             NaN  \n",
       "2  Forestry and Logging  Current prices     Unadjusted             NaN  "
      ]
     },
     "execution_count": 4,
     "metadata": {},
     "output_type": "execute_result"
    }
   ],
   "source": [
    "financials_df = pd.read_csv(f'data/{FINANCIAL_DATA_FILENAME}')\n",
    "financials_df.head(3)"
   ]
  },
  {
   "cell_type": "markdown",
   "metadata": {},
   "source": [
    "#### EDA\n",
    "\n",
    "___\n",
    "\n",
    "Before getting underway with the five technical questions, it's prudent to have an understanding of both of the datasets that will be utilsed in answering the questions.\n",
    "\n",
    "These stats.govt.nz website provides the following pages related to these datasets:\n",
    "\n",
    "1. [Business employment data: March 2024 quarter](https://www.stats.govt.nz/information-releases/business-employment-data-march-2024-quarter/)\n",
    "1. [Business financial data: March 2024 quarter](https://www.stats.govt.nz/information-releases/business-financial-data-march-2024-quarter/)\n",
    "\n",
    "<u>The Business employment dataset contains data for 14 tables:</u>\n",
    "\n",
    "1. Actual employment by industry, filled jobs\n",
    "1. Seasonally adjusted employment by industry, filled jobs\n",
    "1. Employment by industry, trend, filled jobs\n",
    "1. Actual employment by industry, total earnings\n",
    "1. Actual employment by sex, filled jobs\n",
    "1. Actual employment by sex, total earnings\n",
    "1. Actual employment by region, filled jobs\n",
    "1. Seasonally adjusted employment by region, filled jobs\n",
    "1. Employment by region, trend, filled jobs\n",
    "1. Actual employment by region, total earnings\n",
    "1. Actual employment by territorial authority, filled jobs\n",
    "1. Actual employment by territorial authority, total earnings\n",
    "1. Actual employment by age, filled jobs\n",
    "1. Actual employment by age, total earnings\n",
    "\n",
    "\n",
    "<u>The Business financial dataset contains data for five tables:</u>\n",
    "\n",
    "1. Business financial data by industry group - actual sales value\t\t\t\t\t\t\t\n",
    "1. Business financial data by industry group - seasonally adjusted sales value\t\t\t\t\t\t\t\n",
    "1. Business financial data by industry group - actual purchases value\t\t\t\t\t\t\t\n",
    "1. Business financial data by industry group - actual salaries and wages values\t\t\t\t\t\t\t\n",
    "1. Business financial data by industry group - actual operating profit values\t\t\t\t\t\t\t"
   ]
  },
  {
   "cell_type": "code",
   "execution_count": 5,
   "metadata": {},
   "outputs": [
    {
     "data": {
      "text/plain": [
       "(7635, 14)"
      ]
     },
     "execution_count": 5,
     "metadata": {},
     "output_type": "execute_result"
    }
   ],
   "source": [
    "# EDA of Financials Dataset\n",
    "financials_df.shape # 7635 rows, 14 columns"
   ]
  },
  {
   "cell_type": "code",
   "execution_count": 6,
   "metadata": {},
   "outputs": [
    {
     "data": {
      "text/plain": [
       "['Series_reference',\n",
       " 'Period',\n",
       " 'Data_value',\n",
       " 'Suppressed',\n",
       " 'STATUS',\n",
       " 'UNITS',\n",
       " 'Magnitude',\n",
       " 'Subject',\n",
       " 'Group',\n",
       " 'Series_title_1',\n",
       " 'Series_title_2',\n",
       " 'Series_title_3',\n",
       " 'Series_title_4',\n",
       " 'Series_title_5']"
      ]
     },
     "execution_count": 6,
     "metadata": {},
     "output_type": "execute_result"
    }
   ],
   "source": [
    "# What are the column names?\n",
    "[x for x in financials_df.columns]"
   ]
  },
  {
   "cell_type": "code",
   "execution_count": 7,
   "metadata": {},
   "outputs": [
    {
     "data": {
      "text/plain": [
       "240"
      ]
     },
     "execution_count": 7,
     "metadata": {},
     "output_type": "execute_result"
    }
   ],
   "source": [
    "financials_df['Series_reference'].nunique() # 240 unique series references in the dataset"
   ]
  },
  {
   "cell_type": "code",
   "execution_count": 8,
   "metadata": {},
   "outputs": [
    {
     "data": {
      "text/plain": [
       "681     BDCQ.SF1CC3CA\n",
       "5909     BDCQ.SF3IICA\n",
       "4997     BDCQ.SF2QQCA\n",
       "3350     BDCQ.SF1PPCT\n",
       "3306     BDCQ.SF1PPCS\n",
       "6555    BDCQ.SF8CC1CA\n",
       "656     BDCQ.SF1CC2CT\n",
       "5324    BDCQ.SF3CC2CA\n",
       "1538     BDCQ.SF1DDCA\n",
       "719     BDCQ.SF1CC3CS\n",
       "Name: Series_reference, dtype: object"
      ]
     },
     "execution_count": 8,
     "metadata": {},
     "output_type": "execute_result"
    }
   ],
   "source": [
    "# Let's examine the Series_reference column- find 10 random examples\n",
    "random_row_numbers = rng.integers(0, len(financials_df), size=10)  # 10 random row numbers\n",
    "series_ref_examples =financials_df.loc[random_row_numbers, 'Series_reference']\n",
    "series_ref_examples"
   ]
  },
  {
   "cell_type": "markdown",
   "metadata": {},
   "source": [
    "The series reference can be decomposed- Let's examine in further detail, the first example in our series_ref_examples list: \n",
    "* `BDCQ.SF1CC3CA`\n",
    "\n",
    "* The first 3 chars `BDC` tell us that this dataset is part of the `Business data collection` group.\n",
    "* The fourth char `Q` tells us that this data is collected on a `Quarterly` basis\n",
    "\n",
    "Following the full-stop\n",
    "* There are four categories for the next 3 chars: `SF1`, `SF2`, `SF3`, and finally `SF8`. This corresponds to the variable in the column `Series_title_1`.\n",
    "\n",
    "* `SF1`= Sales (operating income)\n",
    "* `SF2`= Purchases and operating expenditure\n",
    "* `SF3`= Salaries and wages\n",
    "* `SF8`= Operating profit\n",
    "\n",
    "The following two chars correspond to the industry type, although it's important to note that it is not an exact 1:1 mapping from char_code : industry type. e.g.\n",
    "\n",
    "`AA` maps to: Forestry and logging, Fishing, Aquaculture and Agriculture, Forestry and Fishing Support Services, Agriculture, Forestry and Fishing \\\n",
    "`BB` is mining \\\n",
    "`CC` maps to 10 \"different\" industries contained within the columns- however, the common theme amongst those 10 industries is Manufacturing. \\\n",
    "`DD` is Electricity, Gas, Water and Waste Services. \\\n",
    "`EE` is Construction\n",
    "\n",
    "The next char futher specifies the industries into their various sub-categories. For example, as mentioned above, `CC` contains manufacturing. If you wish to see each of the industries broken down further, for Manufacturing we see:\n",
    "\n",
    "| Industry Code | Industry                                                      |\n",
    "|---------------|---------------------------------------------------------------|\n",
    "| CC1           | Food, Beverage and Tobacco Product   Manufacturing            |\n",
    "| CC2           | Textile, Leather, Clothing and Footwear Manufacturing         |\n",
    "| CC3           | Wood and Paper Products Manufacturing                         |\n",
    "| CC4           | Printing                                                      |\n",
    "| CC5           | Petroleum, Chemical, Polymer and Rubber Product Manufacturing |\n",
    "| CC6           | Non-Metallic Mineral Product Manufacturing                    |\n",
    "| CC7           | Metal Product Manufacturing                                   |\n",
    "| CC8           | Transport Equipment, Machinery and Equipment Manufacturing    |\n",
    "| CC9           | Furniture and Other Manufacturing                             |\n",
    "| CCC           | Manufacturing                                                 |\n",
    "\n",
    "The next char is always `C` - My assumption is that it stands for `Current` or `Current prices`.\n",
    "\n",
    "Finally, the last three chars can be `A`, `S`, and `T` - these correspond to how the data values may have been adjusted.\n",
    "\n",
    "`A` = Actual \\\n",
    "`S` = Seasonally adjusted \\\n",
    "`T` = Trend\n"
   ]
  },
  {
   "cell_type": "markdown",
   "metadata": {},
   "source": [
    "`Period` column - pertains to the Quarter, in the format YYYY.MM. Of note that a machine will interpret this column as a number, rather than a string.\n",
    "\n",
    "`Data_value` column - the dollar amount in units of $million (see `Magnitude` column)\n",
    "\n",
    "`Suppressed` column - Can be `Y` or blank. If `Y` then the data_value is suppressed.\n",
    "\n",
    "`STATUS` column - Can be `C` (Confidential), `F` (Final), or `R` (Revised).\n",
    "\n",
    "`UNITS` column - always \"Dollars\" for this dataset. \n",
    "\n",
    "`Magnitude` - always 6 for this dataset. Interpret this as \"raise 10 to the power of value in this column\" & multiply by `Data_value` to get answer in the units found in `UNITS` column.\n",
    "\n",
    "`Subject` - always \"Business Data Collection - BDC\" for this dataset.\n",
    "\n",
    "`Group` - Tells you about the NZIOC Level for the industry, either Level 1 or Level 2. Is worthwhile changing the name of this column as GROUP is a reserved word in SQL and it's going to needlessly complicate our queries (and make them less readable) should we leave it as is. A good candidate to tidy. Initial thoughts are convert column to `NZSIOC_level` and have values of 1 and 2.\n",
    "\n",
    "`Series_title_x` - Correspond to the grouping variables for the dataset.\n",
    "\n",
    "___\n"
   ]
  },
  {
   "cell_type": "markdown",
   "metadata": {},
   "source": [
    "### Data Tidying\n",
    "\n",
    "___"
   ]
  },
  {
   "cell_type": "code",
   "execution_count": 9,
   "metadata": {},
   "outputs": [
    {
     "data": {
      "text/plain": [
       "Series_reference    False\n",
       "Period              False\n",
       "Data_value          False\n",
       "Suppressed          False\n",
       "STATUS              False\n",
       "UNITS               False\n",
       "Magnitude           False\n",
       "Subject             False\n",
       "Group               False\n",
       "Series_title_1      False\n",
       "Series_title_2      False\n",
       "Series_title_3      False\n",
       "Series_title_4      False\n",
       "Series_title_5       True\n",
       "dtype: bool"
      ]
     },
     "metadata": {},
     "output_type": "display_data"
    },
    {
     "data": {
      "text/html": [
       "<div>\n",
       "<style scoped>\n",
       "    .dataframe tbody tr th:only-of-type {\n",
       "        vertical-align: middle;\n",
       "    }\n",
       "\n",
       "    .dataframe tbody tr th {\n",
       "        vertical-align: top;\n",
       "    }\n",
       "\n",
       "    .dataframe thead th {\n",
       "        text-align: right;\n",
       "    }\n",
       "</style>\n",
       "<table border=\"1\" class=\"dataframe\">\n",
       "  <thead>\n",
       "    <tr style=\"text-align: right;\">\n",
       "      <th></th>\n",
       "      <th>Series_reference</th>\n",
       "      <th>Period</th>\n",
       "      <th>Data_value</th>\n",
       "      <th>Suppressed</th>\n",
       "      <th>STATUS</th>\n",
       "      <th>UNITS</th>\n",
       "      <th>Magnitude</th>\n",
       "      <th>Subject</th>\n",
       "      <th>Group</th>\n",
       "      <th>Series_title_1</th>\n",
       "      <th>Series_title_2</th>\n",
       "      <th>Series_title_3</th>\n",
       "      <th>Series_title_4</th>\n",
       "    </tr>\n",
       "  </thead>\n",
       "  <tbody>\n",
       "    <tr>\n",
       "      <th>0</th>\n",
       "      <td>BDCQ.SF1AA2CA</td>\n",
       "      <td>2016.06</td>\n",
       "      <td>1116.386</td>\n",
       "      <td>NaN</td>\n",
       "      <td>F</td>\n",
       "      <td>Dollars</td>\n",
       "      <td>6</td>\n",
       "      <td>Business Data Collection - BDC</td>\n",
       "      <td>Industry by financial variable (NZSIOC Level 2)</td>\n",
       "      <td>Sales (operating income)</td>\n",
       "      <td>Forestry and Logging</td>\n",
       "      <td>Current prices</td>\n",
       "      <td>Unadjusted</td>\n",
       "    </tr>\n",
       "    <tr>\n",
       "      <th>1</th>\n",
       "      <td>BDCQ.SF1AA2CA</td>\n",
       "      <td>2016.09</td>\n",
       "      <td>1070.874</td>\n",
       "      <td>NaN</td>\n",
       "      <td>F</td>\n",
       "      <td>Dollars</td>\n",
       "      <td>6</td>\n",
       "      <td>Business Data Collection - BDC</td>\n",
       "      <td>Industry by financial variable (NZSIOC Level 2)</td>\n",
       "      <td>Sales (operating income)</td>\n",
       "      <td>Forestry and Logging</td>\n",
       "      <td>Current prices</td>\n",
       "      <td>Unadjusted</td>\n",
       "    </tr>\n",
       "  </tbody>\n",
       "</table>\n",
       "</div>"
      ],
      "text/plain": [
       "  Series_reference   Period  Data_value Suppressed STATUS    UNITS  Magnitude  \\\n",
       "0    BDCQ.SF1AA2CA  2016.06    1116.386        NaN      F  Dollars          6   \n",
       "1    BDCQ.SF1AA2CA  2016.09    1070.874        NaN      F  Dollars          6   \n",
       "\n",
       "                          Subject  \\\n",
       "0  Business Data Collection - BDC   \n",
       "1  Business Data Collection - BDC   \n",
       "\n",
       "                                             Group            Series_title_1  \\\n",
       "0  Industry by financial variable (NZSIOC Level 2)  Sales (operating income)   \n",
       "1  Industry by financial variable (NZSIOC Level 2)  Sales (operating income)   \n",
       "\n",
       "         Series_title_2  Series_title_3 Series_title_4  \n",
       "0  Forestry and Logging  Current prices     Unadjusted  \n",
       "1  Forestry and Logging  Current prices     Unadjusted  "
      ]
     },
     "execution_count": 9,
     "metadata": {},
     "output_type": "execute_result"
    }
   ],
   "source": [
    "# Tidy up the financials_df dataset\n",
    "display(financials_df.isna().all()) # Series_title_5 contains only NaN values. Let's remove that column\n",
    "financials_df.drop('Series_title_5', axis=1, inplace=True)\n",
    "financials_df.head(2)"
   ]
  },
  {
   "cell_type": "code",
   "execution_count": 10,
   "metadata": {},
   "outputs": [
    {
     "data": {
      "text/plain": [
       "array(['Industry by financial variable (NZSIOC Level 2)',\n",
       "       'Industry by financial variable (NZSIOC Level 1)'], dtype=object)"
      ]
     },
     "execution_count": 10,
     "metadata": {},
     "output_type": "execute_result"
    }
   ],
   "source": [
    "# The group column contains data relating to the NZSIOC Level\n",
    "financials_df['Group'].unique() "
   ]
  },
  {
   "cell_type": "code",
   "execution_count": 11,
   "metadata": {},
   "outputs": [
    {
     "data": {
      "text/html": [
       "<div>\n",
       "<style scoped>\n",
       "    .dataframe tbody tr th:only-of-type {\n",
       "        vertical-align: middle;\n",
       "    }\n",
       "\n",
       "    .dataframe tbody tr th {\n",
       "        vertical-align: top;\n",
       "    }\n",
       "\n",
       "    .dataframe thead th {\n",
       "        text-align: right;\n",
       "    }\n",
       "</style>\n",
       "<table border=\"1\" class=\"dataframe\">\n",
       "  <thead>\n",
       "    <tr style=\"text-align: right;\">\n",
       "      <th></th>\n",
       "      <th>Series_reference</th>\n",
       "      <th>Period</th>\n",
       "      <th>Data_value</th>\n",
       "      <th>Suppressed</th>\n",
       "      <th>STATUS</th>\n",
       "      <th>UNITS</th>\n",
       "      <th>Magnitude</th>\n",
       "      <th>Subject</th>\n",
       "      <th>NZIOC_Level</th>\n",
       "      <th>Series_title_1</th>\n",
       "      <th>Series_title_2</th>\n",
       "      <th>Series_title_3</th>\n",
       "      <th>Series_title_4</th>\n",
       "    </tr>\n",
       "  </thead>\n",
       "  <tbody>\n",
       "    <tr>\n",
       "      <th>0</th>\n",
       "      <td>BDCQ.SF1AA2CA</td>\n",
       "      <td>2016.06</td>\n",
       "      <td>1116.386</td>\n",
       "      <td>NaN</td>\n",
       "      <td>F</td>\n",
       "      <td>Dollars</td>\n",
       "      <td>6</td>\n",
       "      <td>Business Data Collection - BDC</td>\n",
       "      <td>2</td>\n",
       "      <td>Sales (operating income)</td>\n",
       "      <td>Forestry and Logging</td>\n",
       "      <td>Current prices</td>\n",
       "      <td>Unadjusted</td>\n",
       "    </tr>\n",
       "    <tr>\n",
       "      <th>1</th>\n",
       "      <td>BDCQ.SF1AA2CA</td>\n",
       "      <td>2016.09</td>\n",
       "      <td>1070.874</td>\n",
       "      <td>NaN</td>\n",
       "      <td>F</td>\n",
       "      <td>Dollars</td>\n",
       "      <td>6</td>\n",
       "      <td>Business Data Collection - BDC</td>\n",
       "      <td>2</td>\n",
       "      <td>Sales (operating income)</td>\n",
       "      <td>Forestry and Logging</td>\n",
       "      <td>Current prices</td>\n",
       "      <td>Unadjusted</td>\n",
       "    </tr>\n",
       "  </tbody>\n",
       "</table>\n",
       "</div>"
      ],
      "text/plain": [
       "  Series_reference   Period  Data_value Suppressed STATUS    UNITS  Magnitude  \\\n",
       "0    BDCQ.SF1AA2CA  2016.06    1116.386        NaN      F  Dollars          6   \n",
       "1    BDCQ.SF1AA2CA  2016.09    1070.874        NaN      F  Dollars          6   \n",
       "\n",
       "                          Subject  NZIOC_Level            Series_title_1  \\\n",
       "0  Business Data Collection - BDC            2  Sales (operating income)   \n",
       "1  Business Data Collection - BDC            2  Sales (operating income)   \n",
       "\n",
       "         Series_title_2  Series_title_3 Series_title_4  \n",
       "0  Forestry and Logging  Current prices     Unadjusted  \n",
       "1  Forestry and Logging  Current prices     Unadjusted  "
      ]
     },
     "execution_count": 11,
     "metadata": {},
     "output_type": "execute_result"
    }
   ],
   "source": [
    "# Renaming the Group column to NZIOC_Level\n",
    "financials_df['Group'] = financials_df['Group'].apply(lambda x: 1 if '1' in x else 2)\n",
    "financials_df.rename({'Group':'NZIOC_Level'}, axis=1, inplace=True)\n",
    "financials_df.head(2)"
   ]
  },
  {
   "cell_type": "code",
   "execution_count": 12,
   "metadata": {},
   "outputs": [
    {
     "data": {
      "text/plain": [
       "array(['Business Data Collection - BDC'], dtype=object)"
      ]
     },
     "metadata": {},
     "output_type": "display_data"
    },
    {
     "data": {
      "text/html": [
       "<div>\n",
       "<style scoped>\n",
       "    .dataframe tbody tr th:only-of-type {\n",
       "        vertical-align: middle;\n",
       "    }\n",
       "\n",
       "    .dataframe tbody tr th {\n",
       "        vertical-align: top;\n",
       "    }\n",
       "\n",
       "    .dataframe thead th {\n",
       "        text-align: right;\n",
       "    }\n",
       "</style>\n",
       "<table border=\"1\" class=\"dataframe\">\n",
       "  <thead>\n",
       "    <tr style=\"text-align: right;\">\n",
       "      <th></th>\n",
       "      <th>Series_reference</th>\n",
       "      <th>Period</th>\n",
       "      <th>Data_value</th>\n",
       "      <th>Suppressed</th>\n",
       "      <th>STATUS</th>\n",
       "      <th>UNITS</th>\n",
       "      <th>Magnitude</th>\n",
       "      <th>NZIOC_Level</th>\n",
       "      <th>Series_title_1</th>\n",
       "      <th>Series_title_2</th>\n",
       "      <th>Series_title_3</th>\n",
       "      <th>Series_title_4</th>\n",
       "    </tr>\n",
       "  </thead>\n",
       "  <tbody>\n",
       "    <tr>\n",
       "      <th>0</th>\n",
       "      <td>BDCQ.SF1AA2CA</td>\n",
       "      <td>2016.06</td>\n",
       "      <td>1116.386</td>\n",
       "      <td>NaN</td>\n",
       "      <td>F</td>\n",
       "      <td>Dollars</td>\n",
       "      <td>6</td>\n",
       "      <td>2</td>\n",
       "      <td>Sales (operating income)</td>\n",
       "      <td>Forestry and Logging</td>\n",
       "      <td>Current prices</td>\n",
       "      <td>Unadjusted</td>\n",
       "    </tr>\n",
       "    <tr>\n",
       "      <th>1</th>\n",
       "      <td>BDCQ.SF1AA2CA</td>\n",
       "      <td>2016.09</td>\n",
       "      <td>1070.874</td>\n",
       "      <td>NaN</td>\n",
       "      <td>F</td>\n",
       "      <td>Dollars</td>\n",
       "      <td>6</td>\n",
       "      <td>2</td>\n",
       "      <td>Sales (operating income)</td>\n",
       "      <td>Forestry and Logging</td>\n",
       "      <td>Current prices</td>\n",
       "      <td>Unadjusted</td>\n",
       "    </tr>\n",
       "  </tbody>\n",
       "</table>\n",
       "</div>"
      ],
      "text/plain": [
       "  Series_reference   Period  Data_value Suppressed STATUS    UNITS  Magnitude  \\\n",
       "0    BDCQ.SF1AA2CA  2016.06    1116.386        NaN      F  Dollars          6   \n",
       "1    BDCQ.SF1AA2CA  2016.09    1070.874        NaN      F  Dollars          6   \n",
       "\n",
       "   NZIOC_Level            Series_title_1        Series_title_2  \\\n",
       "0            2  Sales (operating income)  Forestry and Logging   \n",
       "1            2  Sales (operating income)  Forestry and Logging   \n",
       "\n",
       "   Series_title_3 Series_title_4  \n",
       "0  Current prices     Unadjusted  \n",
       "1  Current prices     Unadjusted  "
      ]
     },
     "execution_count": 12,
     "metadata": {},
     "output_type": "execute_result"
    }
   ],
   "source": [
    "# Subject colum is only ever 'Business Data Collection - BDC'. It can be removed.\n",
    "display(financials_df['Subject'].unique())\n",
    "financials_df.drop('Subject', axis=1, inplace=True)\n",
    "financials_df.head(2)"
   ]
  },
  {
   "cell_type": "code",
   "execution_count": 13,
   "metadata": {},
   "outputs": [
    {
     "data": {
      "text/plain": [
       "array(['Forestry and Logging',\n",
       "       'Fishing, Aquaculture and Agriculture, Forestry and Fishing Support Services',\n",
       "       'Agriculture, Forestry and Fishing', 'Mining',\n",
       "       'Food, Beverage and Tobacco Product Manufacturing',\n",
       "       'Textile, Leather, Clothing and Footwear Manufacturing',\n",
       "       'Wood and Paper Products Manufacturing', 'Printing',\n",
       "       'Petroleum, Chemical, Polymer and Rubber Product Manufacturing',\n",
       "       'Non-Metallic Mineral Product Manufacturing',\n",
       "       'Metal Product Manufacturing',\n",
       "       'Transport Equipment, Machinery and Equipment Manufacturing',\n",
       "       'Furniture and Other Manufacturing', 'Manufacturing',\n",
       "       'Electricity, Gas, Water and Waste Services', 'Construction',\n",
       "       'Wholesale Trade', 'Retail Trade',\n",
       "       'Accommodation and Food Services',\n",
       "       'Retail Trade and Accommodation',\n",
       "       'Transport, Postal and Warehousing',\n",
       "       'Information Media and Telecommunications',\n",
       "       'Rental, Hiring and Real Estate Services',\n",
       "       'Professional, Scientific and Technical Services',\n",
       "       'Administrative and Support Services',\n",
       "       'Professional, Scientific, Technical, Administrative and Support Services',\n",
       "       'Education and Training', 'Health Care and Social Assistance',\n",
       "       'Arts and Recreation Services', 'Other Services',\n",
       "       'Arts, Recreation and Other Services'], dtype=object)"
      ]
     },
     "metadata": {},
     "output_type": "display_data"
    },
    {
     "data": {
      "text/html": [
       "<div>\n",
       "<style scoped>\n",
       "    .dataframe tbody tr th:only-of-type {\n",
       "        vertical-align: middle;\n",
       "    }\n",
       "\n",
       "    .dataframe tbody tr th {\n",
       "        vertical-align: top;\n",
       "    }\n",
       "\n",
       "    .dataframe thead th {\n",
       "        text-align: right;\n",
       "    }\n",
       "</style>\n",
       "<table border=\"1\" class=\"dataframe\">\n",
       "  <thead>\n",
       "    <tr style=\"text-align: right;\">\n",
       "      <th></th>\n",
       "      <th>Series_reference</th>\n",
       "      <th>Period</th>\n",
       "      <th>Data_value</th>\n",
       "      <th>Suppressed</th>\n",
       "      <th>STATUS</th>\n",
       "      <th>UNITS</th>\n",
       "      <th>Magnitude</th>\n",
       "      <th>NZIOC_Level</th>\n",
       "      <th>Series_title_1</th>\n",
       "      <th>Industry_Type</th>\n",
       "      <th>Series_title_3</th>\n",
       "      <th>Series_title_4</th>\n",
       "    </tr>\n",
       "  </thead>\n",
       "  <tbody>\n",
       "    <tr>\n",
       "      <th>0</th>\n",
       "      <td>BDCQ.SF1AA2CA</td>\n",
       "      <td>2016.06</td>\n",
       "      <td>1116.386</td>\n",
       "      <td>NaN</td>\n",
       "      <td>F</td>\n",
       "      <td>Dollars</td>\n",
       "      <td>6</td>\n",
       "      <td>2</td>\n",
       "      <td>Sales (operating income)</td>\n",
       "      <td>Forestry and Logging</td>\n",
       "      <td>Current prices</td>\n",
       "      <td>Unadjusted</td>\n",
       "    </tr>\n",
       "    <tr>\n",
       "      <th>1</th>\n",
       "      <td>BDCQ.SF1AA2CA</td>\n",
       "      <td>2016.09</td>\n",
       "      <td>1070.874</td>\n",
       "      <td>NaN</td>\n",
       "      <td>F</td>\n",
       "      <td>Dollars</td>\n",
       "      <td>6</td>\n",
       "      <td>2</td>\n",
       "      <td>Sales (operating income)</td>\n",
       "      <td>Forestry and Logging</td>\n",
       "      <td>Current prices</td>\n",
       "      <td>Unadjusted</td>\n",
       "    </tr>\n",
       "  </tbody>\n",
       "</table>\n",
       "</div>"
      ],
      "text/plain": [
       "  Series_reference   Period  Data_value Suppressed STATUS    UNITS  Magnitude  \\\n",
       "0    BDCQ.SF1AA2CA  2016.06    1116.386        NaN      F  Dollars          6   \n",
       "1    BDCQ.SF1AA2CA  2016.09    1070.874        NaN      F  Dollars          6   \n",
       "\n",
       "   NZIOC_Level            Series_title_1         Industry_Type  \\\n",
       "0            2  Sales (operating income)  Forestry and Logging   \n",
       "1            2  Sales (operating income)  Forestry and Logging   \n",
       "\n",
       "   Series_title_3 Series_title_4  \n",
       "0  Current prices     Unadjusted  \n",
       "1  Current prices     Unadjusted  "
      ]
     },
     "execution_count": 13,
     "metadata": {},
     "output_type": "execute_result"
    }
   ],
   "source": [
    "# Series_title_2 pertains to industry type. Let's rename this column\n",
    "display(financials_df['Series_title_2'].unique())\n",
    "financials_df.rename({'Series_title_2':'Industry_Type'}, axis=1, inplace=True)\n",
    "financials_df.head(2)"
   ]
  },
  {
   "cell_type": "code",
   "execution_count": 14,
   "metadata": {},
   "outputs": [
    {
     "data": {
      "text/plain": [
       "array(['Current prices', 'Current'], dtype=object)"
      ]
     },
     "metadata": {},
     "output_type": "display_data"
    },
    {
     "data": {
      "text/plain": [
       "array(['Current'], dtype=object)"
      ]
     },
     "execution_count": 14,
     "metadata": {},
     "output_type": "execute_result"
    }
   ],
   "source": [
    "# Series_title_3 contains both 'Current' and 'Current prices'- There is no distinction between this and we can simplify\n",
    "# Confirmed with Reuben Harrison at Stats NZ\n",
    "display(financials_df['Series_title_3'].unique())\n",
    "\n",
    "financials_df['Series_title_3'] = financials_df['Series_title_3'].apply(lambda x: 'Current' if x == 'Current prices' else x)\n",
    "financials_df.rename({'Series_title_3':'Price'}, axis=1, inplace=True)\n",
    "financials_df['Price'].unique()"
   ]
  },
  {
   "cell_type": "code",
   "execution_count": 15,
   "metadata": {},
   "outputs": [
    {
     "data": {
      "text/plain": [
       "array(['Unadjusted', 'Seasonally adjusted', 'Trend'], dtype=object)"
      ]
     },
     "metadata": {},
     "output_type": "display_data"
    },
    {
     "data": {
      "text/html": [
       "<div>\n",
       "<style scoped>\n",
       "    .dataframe tbody tr th:only-of-type {\n",
       "        vertical-align: middle;\n",
       "    }\n",
       "\n",
       "    .dataframe tbody tr th {\n",
       "        vertical-align: top;\n",
       "    }\n",
       "\n",
       "    .dataframe thead th {\n",
       "        text-align: right;\n",
       "    }\n",
       "</style>\n",
       "<table border=\"1\" class=\"dataframe\">\n",
       "  <thead>\n",
       "    <tr style=\"text-align: right;\">\n",
       "      <th></th>\n",
       "      <th>Series_reference</th>\n",
       "      <th>Period</th>\n",
       "      <th>Data_value</th>\n",
       "      <th>Suppressed</th>\n",
       "      <th>STATUS</th>\n",
       "      <th>UNITS</th>\n",
       "      <th>Magnitude</th>\n",
       "      <th>NZIOC_Level</th>\n",
       "      <th>Series_title_1</th>\n",
       "      <th>Industry_Type</th>\n",
       "      <th>Price</th>\n",
       "      <th>Adjustment</th>\n",
       "    </tr>\n",
       "  </thead>\n",
       "  <tbody>\n",
       "    <tr>\n",
       "      <th>0</th>\n",
       "      <td>BDCQ.SF1AA2CA</td>\n",
       "      <td>2016.06</td>\n",
       "      <td>1116.386</td>\n",
       "      <td>NaN</td>\n",
       "      <td>F</td>\n",
       "      <td>Dollars</td>\n",
       "      <td>6</td>\n",
       "      <td>2</td>\n",
       "      <td>Sales (operating income)</td>\n",
       "      <td>Forestry and Logging</td>\n",
       "      <td>Current</td>\n",
       "      <td>Unadjusted</td>\n",
       "    </tr>\n",
       "    <tr>\n",
       "      <th>1</th>\n",
       "      <td>BDCQ.SF1AA2CA</td>\n",
       "      <td>2016.09</td>\n",
       "      <td>1070.874</td>\n",
       "      <td>NaN</td>\n",
       "      <td>F</td>\n",
       "      <td>Dollars</td>\n",
       "      <td>6</td>\n",
       "      <td>2</td>\n",
       "      <td>Sales (operating income)</td>\n",
       "      <td>Forestry and Logging</td>\n",
       "      <td>Current</td>\n",
       "      <td>Unadjusted</td>\n",
       "    </tr>\n",
       "  </tbody>\n",
       "</table>\n",
       "</div>"
      ],
      "text/plain": [
       "  Series_reference   Period  Data_value Suppressed STATUS    UNITS  Magnitude  \\\n",
       "0    BDCQ.SF1AA2CA  2016.06    1116.386        NaN      F  Dollars          6   \n",
       "1    BDCQ.SF1AA2CA  2016.09    1070.874        NaN      F  Dollars          6   \n",
       "\n",
       "   NZIOC_Level            Series_title_1         Industry_Type    Price  \\\n",
       "0            2  Sales (operating income)  Forestry and Logging  Current   \n",
       "1            2  Sales (operating income)  Forestry and Logging  Current   \n",
       "\n",
       "   Adjustment  \n",
       "0  Unadjusted  \n",
       "1  Unadjusted  "
      ]
     },
     "execution_count": 15,
     "metadata": {},
     "output_type": "execute_result"
    }
   ],
   "source": [
    "# Series_title_4 pertains to if an adjustment has been made to the data value\n",
    "display(financials_df['Series_title_4'].unique())\n",
    "\n",
    "financials_df.rename({'Series_title_4':'Adjustment'}, axis=1, inplace=True)\n",
    "financials_df.head(2)"
   ]
  },
  {
   "cell_type": "code",
   "execution_count": 16,
   "metadata": {},
   "outputs": [
    {
     "data": {
      "text/plain": [
       "array(['Sales (operating income)', 'Purchases and operating expenditure',\n",
       "       'Salaries and wages', 'Operating profit'], dtype=object)"
      ]
     },
     "metadata": {},
     "output_type": "display_data"
    }
   ],
   "source": [
    "# Finally- we can create separate dataframes- the dataset is nicely partitioned already by Series_title_1\n",
    "display(financials_df['Series_title_1'].unique())\n",
    "\n",
    "sales_and_operating_income_df = financials_df[financials_df.loc[:, 'Series_title_1'] == 'Sales (operating income)'].copy()\n",
    "purchases_and_operating_expenditure_df = financials_df[financials_df.loc[:, 'Series_title_1'] == 'Purchases and operating expenditure'].copy()\n",
    "salaries_and_wages_df = financials_df[financials_df.loc[:, 'Series_title_1'] == 'Salaries and wages'].copy()\n",
    "operating_profit_df = financials_df[financials_df.loc[:, 'Series_title_1'] == 'Operating profit'].copy()\n",
    "\n",
    "# We can now drop the Series_title_1 column for each of the newly created dataframes as it is redundant.\n",
    "sales_and_operating_income_df.drop('Series_title_1', axis=1, inplace=True)\n",
    "purchases_and_operating_expenditure_df.drop('Series_title_1', axis=1, inplace=True)\n",
    "salaries_and_wages_df.drop('Series_title_1', axis=1, inplace=True)\n",
    "operating_profit_df.drop('Series_title_1', axis=1, inplace=True)"
   ]
  },
  {
   "cell_type": "code",
   "execution_count": 17,
   "metadata": {},
   "outputs": [
    {
     "data": {
      "text/html": [
       "<div>\n",
       "<style scoped>\n",
       "    .dataframe tbody tr th:only-of-type {\n",
       "        vertical-align: middle;\n",
       "    }\n",
       "\n",
       "    .dataframe tbody tr th {\n",
       "        vertical-align: top;\n",
       "    }\n",
       "\n",
       "    .dataframe thead th {\n",
       "        text-align: right;\n",
       "    }\n",
       "</style>\n",
       "<table border=\"1\" class=\"dataframe\">\n",
       "  <thead>\n",
       "    <tr style=\"text-align: right;\">\n",
       "      <th></th>\n",
       "      <th>Series_reference</th>\n",
       "      <th>Period</th>\n",
       "      <th>Data_value</th>\n",
       "      <th>Suppressed</th>\n",
       "      <th>STATUS</th>\n",
       "      <th>UNITS</th>\n",
       "      <th>Magnitude</th>\n",
       "      <th>Subject</th>\n",
       "      <th>Group</th>\n",
       "      <th>Series_title_1</th>\n",
       "      <th>Series_title_2</th>\n",
       "      <th>Series_title_3</th>\n",
       "    </tr>\n",
       "  </thead>\n",
       "  <tbody>\n",
       "    <tr>\n",
       "      <th>0</th>\n",
       "      <td>BDCQ.SEA1AA</td>\n",
       "      <td>2011.06</td>\n",
       "      <td>80078.0</td>\n",
       "      <td>NaN</td>\n",
       "      <td>F</td>\n",
       "      <td>Number</td>\n",
       "      <td>0</td>\n",
       "      <td>Business Data Collection - BDC</td>\n",
       "      <td>Industry by employment variable</td>\n",
       "      <td>Filled jobs</td>\n",
       "      <td>Agriculture, Forestry and Fishing</td>\n",
       "      <td>Actual</td>\n",
       "    </tr>\n",
       "    <tr>\n",
       "      <th>1</th>\n",
       "      <td>BDCQ.SEA1AA</td>\n",
       "      <td>2011.09</td>\n",
       "      <td>78324.0</td>\n",
       "      <td>NaN</td>\n",
       "      <td>F</td>\n",
       "      <td>Number</td>\n",
       "      <td>0</td>\n",
       "      <td>Business Data Collection - BDC</td>\n",
       "      <td>Industry by employment variable</td>\n",
       "      <td>Filled jobs</td>\n",
       "      <td>Agriculture, Forestry and Fishing</td>\n",
       "      <td>Actual</td>\n",
       "    </tr>\n",
       "  </tbody>\n",
       "</table>\n",
       "</div>"
      ],
      "text/plain": [
       "  Series_reference   Period  Data_value Suppressed STATUS   UNITS  Magnitude  \\\n",
       "0      BDCQ.SEA1AA  2011.06     80078.0        NaN      F  Number          0   \n",
       "1      BDCQ.SEA1AA  2011.09     78324.0        NaN      F  Number          0   \n",
       "\n",
       "                          Subject                            Group  \\\n",
       "0  Business Data Collection - BDC  Industry by employment variable   \n",
       "1  Business Data Collection - BDC  Industry by employment variable   \n",
       "\n",
       "  Series_title_1                     Series_title_2 Series_title_3  \n",
       "0    Filled jobs  Agriculture, Forestry and Fishing         Actual  \n",
       "1    Filled jobs  Agriculture, Forestry and Fishing         Actual  "
      ]
     },
     "execution_count": 17,
     "metadata": {},
     "output_type": "execute_result"
    }
   ],
   "source": [
    "# Tidy up the employment_df dataset\n",
    "employment_df.isna().all() # Series_title_4 & Series_title_5 contains only NaN values. Let's remove those columns\n",
    "employment_df.drop(['Series_title_4', 'Series_title_5'], axis=1, inplace=True)\n",
    "employment_df.head(2)"
   ]
  },
  {
   "cell_type": "code",
   "execution_count": 18,
   "metadata": {},
   "outputs": [
    {
     "data": {
      "text/plain": [
       "array(['Business Data Collection - BDC'], dtype=object)"
      ]
     },
     "metadata": {},
     "output_type": "display_data"
    },
    {
     "data": {
      "text/html": [
       "<div>\n",
       "<style scoped>\n",
       "    .dataframe tbody tr th:only-of-type {\n",
       "        vertical-align: middle;\n",
       "    }\n",
       "\n",
       "    .dataframe tbody tr th {\n",
       "        vertical-align: top;\n",
       "    }\n",
       "\n",
       "    .dataframe thead th {\n",
       "        text-align: right;\n",
       "    }\n",
       "</style>\n",
       "<table border=\"1\" class=\"dataframe\">\n",
       "  <thead>\n",
       "    <tr style=\"text-align: right;\">\n",
       "      <th></th>\n",
       "      <th>Series_reference</th>\n",
       "      <th>Period</th>\n",
       "      <th>Data_value</th>\n",
       "      <th>Suppressed</th>\n",
       "      <th>STATUS</th>\n",
       "      <th>UNITS</th>\n",
       "      <th>Magnitude</th>\n",
       "      <th>Group</th>\n",
       "      <th>Series_title_1</th>\n",
       "      <th>Series_title_2</th>\n",
       "      <th>Series_title_3</th>\n",
       "    </tr>\n",
       "  </thead>\n",
       "  <tbody>\n",
       "    <tr>\n",
       "      <th>0</th>\n",
       "      <td>BDCQ.SEA1AA</td>\n",
       "      <td>2011.06</td>\n",
       "      <td>80078.0</td>\n",
       "      <td>NaN</td>\n",
       "      <td>F</td>\n",
       "      <td>Number</td>\n",
       "      <td>0</td>\n",
       "      <td>Industry by employment variable</td>\n",
       "      <td>Filled jobs</td>\n",
       "      <td>Agriculture, Forestry and Fishing</td>\n",
       "      <td>Actual</td>\n",
       "    </tr>\n",
       "    <tr>\n",
       "      <th>1</th>\n",
       "      <td>BDCQ.SEA1AA</td>\n",
       "      <td>2011.09</td>\n",
       "      <td>78324.0</td>\n",
       "      <td>NaN</td>\n",
       "      <td>F</td>\n",
       "      <td>Number</td>\n",
       "      <td>0</td>\n",
       "      <td>Industry by employment variable</td>\n",
       "      <td>Filled jobs</td>\n",
       "      <td>Agriculture, Forestry and Fishing</td>\n",
       "      <td>Actual</td>\n",
       "    </tr>\n",
       "  </tbody>\n",
       "</table>\n",
       "</div>"
      ],
      "text/plain": [
       "  Series_reference   Period  Data_value Suppressed STATUS   UNITS  Magnitude  \\\n",
       "0      BDCQ.SEA1AA  2011.06     80078.0        NaN      F  Number          0   \n",
       "1      BDCQ.SEA1AA  2011.09     78324.0        NaN      F  Number          0   \n",
       "\n",
       "                             Group Series_title_1  \\\n",
       "0  Industry by employment variable    Filled jobs   \n",
       "1  Industry by employment variable    Filled jobs   \n",
       "\n",
       "                      Series_title_2 Series_title_3  \n",
       "0  Agriculture, Forestry and Fishing         Actual  \n",
       "1  Agriculture, Forestry and Fishing         Actual  "
      ]
     },
     "execution_count": 18,
     "metadata": {},
     "output_type": "execute_result"
    }
   ],
   "source": [
    "# Subject colum is only ever 'Business Data Collection - BDC'. It can be removed.\n",
    "display(employment_df['Subject'].unique())\n",
    "employment_df.drop('Subject', axis=1, inplace=True)\n",
    "employment_df.head(2)"
   ]
  },
  {
   "cell_type": "code",
   "execution_count": 19,
   "metadata": {},
   "outputs": [
    {
     "data": {
      "text/plain": [
       "array(['Actual', 'Seasonally adjusted', 'Trend'], dtype=object)"
      ]
     },
     "metadata": {},
     "output_type": "display_data"
    },
    {
     "data": {
      "text/html": [
       "<div>\n",
       "<style scoped>\n",
       "    .dataframe tbody tr th:only-of-type {\n",
       "        vertical-align: middle;\n",
       "    }\n",
       "\n",
       "    .dataframe tbody tr th {\n",
       "        vertical-align: top;\n",
       "    }\n",
       "\n",
       "    .dataframe thead th {\n",
       "        text-align: right;\n",
       "    }\n",
       "</style>\n",
       "<table border=\"1\" class=\"dataframe\">\n",
       "  <thead>\n",
       "    <tr style=\"text-align: right;\">\n",
       "      <th></th>\n",
       "      <th>Series_reference</th>\n",
       "      <th>Period</th>\n",
       "      <th>Data_value</th>\n",
       "      <th>Suppressed</th>\n",
       "      <th>STATUS</th>\n",
       "      <th>UNITS</th>\n",
       "      <th>Magnitude</th>\n",
       "      <th>Group</th>\n",
       "      <th>Series_title_1</th>\n",
       "      <th>Series_title_2</th>\n",
       "      <th>Adjustment</th>\n",
       "    </tr>\n",
       "  </thead>\n",
       "  <tbody>\n",
       "    <tr>\n",
       "      <th>0</th>\n",
       "      <td>BDCQ.SEA1AA</td>\n",
       "      <td>2011.06</td>\n",
       "      <td>80078.0</td>\n",
       "      <td>NaN</td>\n",
       "      <td>F</td>\n",
       "      <td>Number</td>\n",
       "      <td>0</td>\n",
       "      <td>Industry by employment variable</td>\n",
       "      <td>Filled jobs</td>\n",
       "      <td>Agriculture, Forestry and Fishing</td>\n",
       "      <td>Actual</td>\n",
       "    </tr>\n",
       "    <tr>\n",
       "      <th>1</th>\n",
       "      <td>BDCQ.SEA1AA</td>\n",
       "      <td>2011.09</td>\n",
       "      <td>78324.0</td>\n",
       "      <td>NaN</td>\n",
       "      <td>F</td>\n",
       "      <td>Number</td>\n",
       "      <td>0</td>\n",
       "      <td>Industry by employment variable</td>\n",
       "      <td>Filled jobs</td>\n",
       "      <td>Agriculture, Forestry and Fishing</td>\n",
       "      <td>Actual</td>\n",
       "    </tr>\n",
       "  </tbody>\n",
       "</table>\n",
       "</div>"
      ],
      "text/plain": [
       "  Series_reference   Period  Data_value Suppressed STATUS   UNITS  Magnitude  \\\n",
       "0      BDCQ.SEA1AA  2011.06     80078.0        NaN      F  Number          0   \n",
       "1      BDCQ.SEA1AA  2011.09     78324.0        NaN      F  Number          0   \n",
       "\n",
       "                             Group Series_title_1  \\\n",
       "0  Industry by employment variable    Filled jobs   \n",
       "1  Industry by employment variable    Filled jobs   \n",
       "\n",
       "                      Series_title_2 Adjustment  \n",
       "0  Agriculture, Forestry and Fishing     Actual  \n",
       "1  Agriculture, Forestry and Fishing     Actual  "
      ]
     },
     "execution_count": 19,
     "metadata": {},
     "output_type": "execute_result"
    }
   ],
   "source": [
    "# Series_title_3 pertains to if an ajustment has been made to the data value\n",
    "display(employment_df['Series_title_3'].unique())\n",
    "\n",
    "employment_df.rename({'Series_title_3':'Adjustment'}, axis=1, inplace=True)\n",
    "employment_df.head(2)"
   ]
  },
  {
   "cell_type": "code",
   "execution_count": 20,
   "metadata": {},
   "outputs": [
    {
     "data": {
      "text/html": [
       "<div>\n",
       "<style scoped>\n",
       "    .dataframe tbody tr th:only-of-type {\n",
       "        vertical-align: middle;\n",
       "    }\n",
       "\n",
       "    .dataframe tbody tr th {\n",
       "        vertical-align: top;\n",
       "    }\n",
       "\n",
       "    .dataframe thead th {\n",
       "        text-align: right;\n",
       "    }\n",
       "</style>\n",
       "<table border=\"1\" class=\"dataframe\">\n",
       "  <thead>\n",
       "    <tr style=\"text-align: right;\">\n",
       "      <th></th>\n",
       "      <th>Series_reference</th>\n",
       "      <th>Period</th>\n",
       "      <th>Data_value</th>\n",
       "      <th>Suppressed</th>\n",
       "      <th>STATUS</th>\n",
       "      <th>UNITS</th>\n",
       "      <th>Magnitude</th>\n",
       "      <th>Group</th>\n",
       "      <th>Series_title_1</th>\n",
       "      <th>Series_title_2</th>\n",
       "      <th>Adjustment</th>\n",
       "    </tr>\n",
       "  </thead>\n",
       "  <tbody>\n",
       "    <tr>\n",
       "      <th>0</th>\n",
       "      <td>BDCQ.SEA1AA</td>\n",
       "      <td>2011.06</td>\n",
       "      <td>80078.0</td>\n",
       "      <td>NaN</td>\n",
       "      <td>F</td>\n",
       "      <td>Number</td>\n",
       "      <td>0</td>\n",
       "      <td>Industry by employment variable</td>\n",
       "      <td>Filled jobs</td>\n",
       "      <td>Agriculture, Forestry and Fishing</td>\n",
       "      <td>Actual</td>\n",
       "    </tr>\n",
       "    <tr>\n",
       "      <th>1</th>\n",
       "      <td>BDCQ.SEA1AA</td>\n",
       "      <td>2011.09</td>\n",
       "      <td>78324.0</td>\n",
       "      <td>NaN</td>\n",
       "      <td>F</td>\n",
       "      <td>Number</td>\n",
       "      <td>0</td>\n",
       "      <td>Industry by employment variable</td>\n",
       "      <td>Filled jobs</td>\n",
       "      <td>Agriculture, Forestry and Fishing</td>\n",
       "      <td>Actual</td>\n",
       "    </tr>\n",
       "  </tbody>\n",
       "</table>\n",
       "</div>"
      ],
      "text/plain": [
       "  Series_reference   Period  Data_value Suppressed STATUS   UNITS  Magnitude  \\\n",
       "0      BDCQ.SEA1AA  2011.06     80078.0        NaN      F  Number          0   \n",
       "1      BDCQ.SEA1AA  2011.09     78324.0        NaN      F  Number          0   \n",
       "\n",
       "                             Group Series_title_1  \\\n",
       "0  Industry by employment variable    Filled jobs   \n",
       "1  Industry by employment variable    Filled jobs   \n",
       "\n",
       "                      Series_title_2 Adjustment  \n",
       "0  Agriculture, Forestry and Fishing     Actual  \n",
       "1  Agriculture, Forestry and Fishing     Actual  "
      ]
     },
     "metadata": {},
     "output_type": "display_data"
    },
    {
     "data": {
      "text/html": [
       "<div>\n",
       "<style scoped>\n",
       "    .dataframe tbody tr th:only-of-type {\n",
       "        vertical-align: middle;\n",
       "    }\n",
       "\n",
       "    .dataframe tbody tr th {\n",
       "        vertical-align: top;\n",
       "    }\n",
       "\n",
       "    .dataframe thead th {\n",
       "        text-align: right;\n",
       "    }\n",
       "</style>\n",
       "<table border=\"1\" class=\"dataframe\">\n",
       "  <thead>\n",
       "    <tr style=\"text-align: right;\">\n",
       "      <th></th>\n",
       "      <th>Series_reference</th>\n",
       "      <th>Period</th>\n",
       "      <th>Data_value</th>\n",
       "      <th>Suppressed</th>\n",
       "      <th>STATUS</th>\n",
       "      <th>UNITS</th>\n",
       "      <th>Magnitude</th>\n",
       "      <th>Group</th>\n",
       "      <th>Series_title_1</th>\n",
       "      <th>Series_title_2</th>\n",
       "      <th>Adjustment</th>\n",
       "    </tr>\n",
       "  </thead>\n",
       "  <tbody>\n",
       "    <tr>\n",
       "      <th>12480</th>\n",
       "      <td>BDCQ.SEE1001A</td>\n",
       "      <td>2011.06</td>\n",
       "      <td>17061.0</td>\n",
       "      <td>NaN</td>\n",
       "      <td>F</td>\n",
       "      <td>Number</td>\n",
       "      <td>0</td>\n",
       "      <td>Territorial authority by employment variable</td>\n",
       "      <td>Filled jobs</td>\n",
       "      <td>Far North District</td>\n",
       "      <td>Actual</td>\n",
       "    </tr>\n",
       "    <tr>\n",
       "      <th>12481</th>\n",
       "      <td>BDCQ.SEE1001A</td>\n",
       "      <td>2011.09</td>\n",
       "      <td>16702.0</td>\n",
       "      <td>NaN</td>\n",
       "      <td>F</td>\n",
       "      <td>Number</td>\n",
       "      <td>0</td>\n",
       "      <td>Territorial authority by employment variable</td>\n",
       "      <td>Filled jobs</td>\n",
       "      <td>Far North District</td>\n",
       "      <td>Actual</td>\n",
       "    </tr>\n",
       "  </tbody>\n",
       "</table>\n",
       "</div>"
      ],
      "text/plain": [
       "      Series_reference   Period  Data_value Suppressed STATUS   UNITS  \\\n",
       "12480    BDCQ.SEE1001A  2011.06     17061.0        NaN      F  Number   \n",
       "12481    BDCQ.SEE1001A  2011.09     16702.0        NaN      F  Number   \n",
       "\n",
       "       Magnitude                                         Group Series_title_1  \\\n",
       "12480          0  Territorial authority by employment variable    Filled jobs   \n",
       "12481          0  Territorial authority by employment variable    Filled jobs   \n",
       "\n",
       "           Series_title_2 Adjustment  \n",
       "12480  Far North District     Actual  \n",
       "12481  Far North District     Actual  "
      ]
     },
     "execution_count": 20,
     "metadata": {},
     "output_type": "execute_result"
    }
   ],
   "source": [
    "# As we did above, we can split up the employment dataframe into smaller dataframes.\n",
    "# This time, let's only create the dataframes required for answering Q1-Q3 in Instructions.pdf\n",
    "\n",
    "# Q1 requires 'filled jobs by industry'\n",
    "filled_jobs_by_industry_df = employment_df[(employment_df['Series_title_1'] == 'Filled jobs') & (employment_df['Group'] == 'Industry by employment variable')].copy()\n",
    "display(filled_jobs_by_industry_df.head(2))\n",
    "\n",
    "# Q2 requires only data from the financials dataset, which has already been tidied.\n",
    "\n",
    "# Q3 requires 'filled jobs by territorial authority'\n",
    "filled_jobs_by_territorial_authority_df = employment_df[(employment_df['Series_title_1'] == 'Filled jobs') & (employment_df['Group'] == 'Territorial authority by employment variable')].copy()\n",
    "filled_jobs_by_territorial_authority_df.head(2)"
   ]
  },
  {
   "cell_type": "code",
   "execution_count": 21,
   "metadata": {},
   "outputs": [
    {
     "data": {
      "text/plain": [
       "array(['Industry by employment variable'], dtype=object)"
      ]
     },
     "metadata": {},
     "output_type": "display_data"
    },
    {
     "data": {
      "text/plain": [
       "array(['Filled jobs'], dtype=object)"
      ]
     },
     "metadata": {},
     "output_type": "display_data"
    },
    {
     "data": {
      "text/html": [
       "<div>\n",
       "<style scoped>\n",
       "    .dataframe tbody tr th:only-of-type {\n",
       "        vertical-align: middle;\n",
       "    }\n",
       "\n",
       "    .dataframe tbody tr th {\n",
       "        vertical-align: top;\n",
       "    }\n",
       "\n",
       "    .dataframe thead th {\n",
       "        text-align: right;\n",
       "    }\n",
       "</style>\n",
       "<table border=\"1\" class=\"dataframe\">\n",
       "  <thead>\n",
       "    <tr style=\"text-align: right;\">\n",
       "      <th></th>\n",
       "      <th>Series_reference</th>\n",
       "      <th>Period</th>\n",
       "      <th>Data_value</th>\n",
       "      <th>Suppressed</th>\n",
       "      <th>STATUS</th>\n",
       "      <th>UNITS</th>\n",
       "      <th>Magnitude</th>\n",
       "      <th>Series_title_2</th>\n",
       "      <th>Adjustment</th>\n",
       "    </tr>\n",
       "  </thead>\n",
       "  <tbody>\n",
       "    <tr>\n",
       "      <th>0</th>\n",
       "      <td>BDCQ.SEA1AA</td>\n",
       "      <td>2011.06</td>\n",
       "      <td>80078.0</td>\n",
       "      <td>NaN</td>\n",
       "      <td>F</td>\n",
       "      <td>Number</td>\n",
       "      <td>0</td>\n",
       "      <td>Agriculture, Forestry and Fishing</td>\n",
       "      <td>Actual</td>\n",
       "    </tr>\n",
       "    <tr>\n",
       "      <th>1</th>\n",
       "      <td>BDCQ.SEA1AA</td>\n",
       "      <td>2011.09</td>\n",
       "      <td>78324.0</td>\n",
       "      <td>NaN</td>\n",
       "      <td>F</td>\n",
       "      <td>Number</td>\n",
       "      <td>0</td>\n",
       "      <td>Agriculture, Forestry and Fishing</td>\n",
       "      <td>Actual</td>\n",
       "    </tr>\n",
       "  </tbody>\n",
       "</table>\n",
       "</div>"
      ],
      "text/plain": [
       "  Series_reference   Period  Data_value Suppressed STATUS   UNITS  Magnitude  \\\n",
       "0      BDCQ.SEA1AA  2011.06     80078.0        NaN      F  Number          0   \n",
       "1      BDCQ.SEA1AA  2011.09     78324.0        NaN      F  Number          0   \n",
       "\n",
       "                      Series_title_2 Adjustment  \n",
       "0  Agriculture, Forestry and Fishing     Actual  \n",
       "1  Agriculture, Forestry and Fishing     Actual  "
      ]
     },
     "execution_count": 21,
     "metadata": {},
     "output_type": "execute_result"
    }
   ],
   "source": [
    "# Tidying filled_jobs_by_industry_df\n",
    "# We can remove the Group column and the Series_title_1 column from this dataframe\n",
    "display(filled_jobs_by_industry_df['Group'].unique()) # Only ever Industry by employment variable\n",
    "display(filled_jobs_by_industry_df['Series_title_1'].unique()) # Only ever Filled jobs\n",
    "\n",
    "filled_jobs_by_industry_df.drop(['Group', 'Series_title_1'], axis=1, inplace=True)\n",
    "filled_jobs_by_industry_df.head(2)"
   ]
  },
  {
   "cell_type": "code",
   "execution_count": 22,
   "metadata": {},
   "outputs": [
    {
     "data": {
      "text/html": [
       "<div>\n",
       "<style scoped>\n",
       "    .dataframe tbody tr th:only-of-type {\n",
       "        vertical-align: middle;\n",
       "    }\n",
       "\n",
       "    .dataframe tbody tr th {\n",
       "        vertical-align: top;\n",
       "    }\n",
       "\n",
       "    .dataframe thead th {\n",
       "        text-align: right;\n",
       "    }\n",
       "</style>\n",
       "<table border=\"1\" class=\"dataframe\">\n",
       "  <thead>\n",
       "    <tr style=\"text-align: right;\">\n",
       "      <th></th>\n",
       "      <th>Series_reference</th>\n",
       "      <th>Period</th>\n",
       "      <th>Data_value</th>\n",
       "      <th>Suppressed</th>\n",
       "      <th>STATUS</th>\n",
       "      <th>UNITS</th>\n",
       "      <th>Magnitude</th>\n",
       "      <th>Industry_Type</th>\n",
       "      <th>Adjustment</th>\n",
       "    </tr>\n",
       "  </thead>\n",
       "  <tbody>\n",
       "    <tr>\n",
       "      <th>0</th>\n",
       "      <td>BDCQ.SEA1AA</td>\n",
       "      <td>2011.06</td>\n",
       "      <td>80078.0</td>\n",
       "      <td>NaN</td>\n",
       "      <td>F</td>\n",
       "      <td>Number</td>\n",
       "      <td>0</td>\n",
       "      <td>Agriculture, Forestry and Fishing</td>\n",
       "      <td>Actual</td>\n",
       "    </tr>\n",
       "    <tr>\n",
       "      <th>1</th>\n",
       "      <td>BDCQ.SEA1AA</td>\n",
       "      <td>2011.09</td>\n",
       "      <td>78324.0</td>\n",
       "      <td>NaN</td>\n",
       "      <td>F</td>\n",
       "      <td>Number</td>\n",
       "      <td>0</td>\n",
       "      <td>Agriculture, Forestry and Fishing</td>\n",
       "      <td>Actual</td>\n",
       "    </tr>\n",
       "  </tbody>\n",
       "</table>\n",
       "</div>"
      ],
      "text/plain": [
       "  Series_reference   Period  Data_value Suppressed STATUS   UNITS  Magnitude  \\\n",
       "0      BDCQ.SEA1AA  2011.06     80078.0        NaN      F  Number          0   \n",
       "1      BDCQ.SEA1AA  2011.09     78324.0        NaN      F  Number          0   \n",
       "\n",
       "                       Industry_Type Adjustment  \n",
       "0  Agriculture, Forestry and Fishing     Actual  \n",
       "1  Agriculture, Forestry and Fishing     Actual  "
      ]
     },
     "execution_count": 22,
     "metadata": {},
     "output_type": "execute_result"
    }
   ],
   "source": [
    "# Finally- let's rename Series_title 2 to something more meaningful\n",
    "filled_jobs_by_industry_df.rename({'Series_title_2':'Industry_Type'}, axis=1, inplace=True)\n",
    "filled_jobs_by_industry_df.head(2)"
   ]
  },
  {
   "cell_type": "code",
   "execution_count": 23,
   "metadata": {},
   "outputs": [
    {
     "data": {
      "text/html": [
       "<div>\n",
       "<style scoped>\n",
       "    .dataframe tbody tr th:only-of-type {\n",
       "        vertical-align: middle;\n",
       "    }\n",
       "\n",
       "    .dataframe tbody tr th {\n",
       "        vertical-align: top;\n",
       "    }\n",
       "\n",
       "    .dataframe thead th {\n",
       "        text-align: right;\n",
       "    }\n",
       "</style>\n",
       "<table border=\"1\" class=\"dataframe\">\n",
       "  <thead>\n",
       "    <tr style=\"text-align: right;\">\n",
       "      <th></th>\n",
       "      <th>Series_reference</th>\n",
       "      <th>Period</th>\n",
       "      <th>Data_value</th>\n",
       "      <th>Suppressed</th>\n",
       "      <th>STATUS</th>\n",
       "      <th>UNITS</th>\n",
       "      <th>Magnitude</th>\n",
       "      <th>Series_title_2</th>\n",
       "      <th>Adjustment</th>\n",
       "    </tr>\n",
       "  </thead>\n",
       "  <tbody>\n",
       "    <tr>\n",
       "      <th>12480</th>\n",
       "      <td>BDCQ.SEE1001A</td>\n",
       "      <td>2011.06</td>\n",
       "      <td>17061.0</td>\n",
       "      <td>NaN</td>\n",
       "      <td>F</td>\n",
       "      <td>Number</td>\n",
       "      <td>0</td>\n",
       "      <td>Far North District</td>\n",
       "      <td>Actual</td>\n",
       "    </tr>\n",
       "    <tr>\n",
       "      <th>12481</th>\n",
       "      <td>BDCQ.SEE1001A</td>\n",
       "      <td>2011.09</td>\n",
       "      <td>16702.0</td>\n",
       "      <td>NaN</td>\n",
       "      <td>F</td>\n",
       "      <td>Number</td>\n",
       "      <td>0</td>\n",
       "      <td>Far North District</td>\n",
       "      <td>Actual</td>\n",
       "    </tr>\n",
       "  </tbody>\n",
       "</table>\n",
       "</div>"
      ],
      "text/plain": [
       "      Series_reference   Period  Data_value Suppressed STATUS   UNITS  \\\n",
       "12480    BDCQ.SEE1001A  2011.06     17061.0        NaN      F  Number   \n",
       "12481    BDCQ.SEE1001A  2011.09     16702.0        NaN      F  Number   \n",
       "\n",
       "       Magnitude      Series_title_2 Adjustment  \n",
       "12480          0  Far North District     Actual  \n",
       "12481          0  Far North District     Actual  "
      ]
     },
     "execution_count": 23,
     "metadata": {},
     "output_type": "execute_result"
    }
   ],
   "source": [
    "# Tidying filled_jobs_by_industry_df\n",
    "# We can remove the Group column and the Series_title_1 column from this dataframe\n",
    "filled_jobs_by_territorial_authority_df.drop(['Group', 'Series_title_1'], axis=1, inplace=True)\n",
    "filled_jobs_by_territorial_authority_df.head(2)"
   ]
  },
  {
   "cell_type": "code",
   "execution_count": 24,
   "metadata": {},
   "outputs": [
    {
     "data": {
      "text/html": [
       "<div>\n",
       "<style scoped>\n",
       "    .dataframe tbody tr th:only-of-type {\n",
       "        vertical-align: middle;\n",
       "    }\n",
       "\n",
       "    .dataframe tbody tr th {\n",
       "        vertical-align: top;\n",
       "    }\n",
       "\n",
       "    .dataframe thead th {\n",
       "        text-align: right;\n",
       "    }\n",
       "</style>\n",
       "<table border=\"1\" class=\"dataframe\">\n",
       "  <thead>\n",
       "    <tr style=\"text-align: right;\">\n",
       "      <th></th>\n",
       "      <th>Series_reference</th>\n",
       "      <th>Period</th>\n",
       "      <th>Data_value</th>\n",
       "      <th>Suppressed</th>\n",
       "      <th>STATUS</th>\n",
       "      <th>UNITS</th>\n",
       "      <th>Magnitude</th>\n",
       "      <th>Territorial_Authority</th>\n",
       "      <th>Adjustment</th>\n",
       "    </tr>\n",
       "  </thead>\n",
       "  <tbody>\n",
       "    <tr>\n",
       "      <th>12480</th>\n",
       "      <td>BDCQ.SEE1001A</td>\n",
       "      <td>2011.06</td>\n",
       "      <td>17061.0</td>\n",
       "      <td>NaN</td>\n",
       "      <td>F</td>\n",
       "      <td>Number</td>\n",
       "      <td>0</td>\n",
       "      <td>Far North District</td>\n",
       "      <td>Actual</td>\n",
       "    </tr>\n",
       "    <tr>\n",
       "      <th>12481</th>\n",
       "      <td>BDCQ.SEE1001A</td>\n",
       "      <td>2011.09</td>\n",
       "      <td>16702.0</td>\n",
       "      <td>NaN</td>\n",
       "      <td>F</td>\n",
       "      <td>Number</td>\n",
       "      <td>0</td>\n",
       "      <td>Far North District</td>\n",
       "      <td>Actual</td>\n",
       "    </tr>\n",
       "  </tbody>\n",
       "</table>\n",
       "</div>"
      ],
      "text/plain": [
       "      Series_reference   Period  Data_value Suppressed STATUS   UNITS  \\\n",
       "12480    BDCQ.SEE1001A  2011.06     17061.0        NaN      F  Number   \n",
       "12481    BDCQ.SEE1001A  2011.09     16702.0        NaN      F  Number   \n",
       "\n",
       "       Magnitude Territorial_Authority Adjustment  \n",
       "12480          0    Far North District     Actual  \n",
       "12481          0    Far North District     Actual  "
      ]
     },
     "execution_count": 24,
     "metadata": {},
     "output_type": "execute_result"
    }
   ],
   "source": [
    "# Finally- let's rename Series_title 2 to something more meaningful\n",
    "filled_jobs_by_territorial_authority_df.rename({'Series_title_2':'Territorial_Authority'}, axis=1, inplace=True)\n",
    "filled_jobs_by_territorial_authority_df.head(2)"
   ]
  },
  {
   "cell_type": "markdown",
   "metadata": {},
   "source": [
    "### Create the SQL Tables\n",
    "\n",
    "___"
   ]
  },
  {
   "cell_type": "code",
   "execution_count": 25,
   "metadata": {},
   "outputs": [],
   "source": [
    "# salaries_and_wages table\n",
    "duckdb.sql(\"\"\"\n",
    "        CREATE TABLE salaries_and_wages\n",
    "        AS SELECT *\n",
    "        FROM salaries_and_wages_df\n",
    "        \"\"\")\n",
    "\n",
    "# employment_by_industry table\n",
    "duckdb.sql(\"\"\"\n",
    "        CREATE TABLE employment_by_industry\n",
    "        AS SELECT *\n",
    "        FROM filled_jobs_by_industry_df\n",
    "        \"\"\")\n",
    "\n",
    "# employment_by_territorial_authority table\n",
    "duckdb.sql(\"\"\"\n",
    "        CREATE TABLE employment_by_territorial_authority\n",
    "        AS SELECT *\n",
    "        FROM filled_jobs_by_territorial_authority_df\n",
    "        \"\"\")"
   ]
  },
  {
   "cell_type": "code",
   "execution_count": 26,
   "metadata": {},
   "outputs": [
    {
     "data": {
      "text/plain": [
       "┌──────────────────┬─────────┬────────────┬────────────┬─────────┬─────────┬───────────┬─────────────┬──────────────────────┬─────────┬────────────┐\n",
       "│ Series_reference │ Period  │ Data_value │ Suppressed │ STATUS  │  UNITS  │ Magnitude │ NZIOC_Level │    Industry_Type     │  Price  │ Adjustment │\n",
       "│     varchar      │ double  │   double   │   int32    │ varchar │ varchar │   int64   │    int64    │       varchar        │ varchar │  varchar   │\n",
       "├──────────────────┼─────────┼────────────┼────────────┼─────────┼─────────┼───────────┼─────────────┼──────────────────────┼─────────┼────────────┤\n",
       "│ BDCQ.SF3AA2CA    │ 2016.06 │     65.087 │       NULL │ F       │ Dollars │         6 │           2 │ Forestry and Logging │ Current │ Unadjusted │\n",
       "│ BDCQ.SF3AA2CA    │ 2016.09 │     66.088 │       NULL │ F       │ Dollars │         6 │           2 │ Forestry and Logging │ Current │ Unadjusted │\n",
       "│ BDCQ.SF3AA2CA    │ 2016.12 │     72.872 │       NULL │ F       │ Dollars │         6 │           2 │ Forestry and Logging │ Current │ Unadjusted │\n",
       "│ BDCQ.SF3AA2CA    │ 2017.03 │     69.398 │       NULL │ F       │ Dollars │         6 │           2 │ Forestry and Logging │ Current │ Unadjusted │\n",
       "│ BDCQ.SF3AA2CA    │ 2017.06 │     74.397 │       NULL │ F       │ Dollars │         6 │           2 │ Forestry and Logging │ Current │ Unadjusted │\n",
       "└──────────────────┴─────────┴────────────┴────────────┴─────────┴─────────┴───────────┴─────────────┴──────────────────────┴─────────┴────────────┘"
      ]
     },
     "execution_count": 26,
     "metadata": {},
     "output_type": "execute_result"
    }
   ],
   "source": [
    "duckdb.sql(\"\"\"\n",
    "        SELECT * \n",
    "        FROM salaries_and_wages\n",
    "        LIMIT 5\n",
    "        \"\"\")"
   ]
  },
  {
   "cell_type": "code",
   "execution_count": 27,
   "metadata": {},
   "outputs": [
    {
     "data": {
      "text/plain": [
       "┌──────────────────┬─────────┬────────────┬────────────┬─────────┬─────────┬───────────┬───────────────────────────────────┬────────────┐\n",
       "│ Series_reference │ Period  │ Data_value │ Suppressed │ STATUS  │  UNITS  │ Magnitude │           Industry_Type           │ Adjustment │\n",
       "│     varchar      │ double  │   double   │   int32    │ varchar │ varchar │   int64   │              varchar              │  varchar   │\n",
       "├──────────────────┼─────────┼────────────┼────────────┼─────────┼─────────┼───────────┼───────────────────────────────────┼────────────┤\n",
       "│ BDCQ.SEA1AA      │ 2011.06 │    80078.0 │       NULL │ F       │ Number  │         0 │ Agriculture, Forestry and Fishing │ Actual     │\n",
       "│ BDCQ.SEA1AA      │ 2011.09 │    78324.0 │       NULL │ F       │ Number  │         0 │ Agriculture, Forestry and Fishing │ Actual     │\n",
       "│ BDCQ.SEA1AA      │ 2011.12 │    85850.0 │       NULL │ F       │ Number  │         0 │ Agriculture, Forestry and Fishing │ Actual     │\n",
       "│ BDCQ.SEA1AA      │ 2012.03 │    90743.0 │       NULL │ F       │ Number  │         0 │ Agriculture, Forestry and Fishing │ Actual     │\n",
       "│ BDCQ.SEA1AA      │ 2012.06 │    81780.0 │       NULL │ F       │ Number  │         0 │ Agriculture, Forestry and Fishing │ Actual     │\n",
       "└──────────────────┴─────────┴────────────┴────────────┴─────────┴─────────┴───────────┴───────────────────────────────────┴────────────┘"
      ]
     },
     "execution_count": 27,
     "metadata": {},
     "output_type": "execute_result"
    }
   ],
   "source": [
    "duckdb.sql(\"\"\"\n",
    "        SELECT * \n",
    "        FROM employment_by_industry\n",
    "        LIMIT 5\n",
    "        \"\"\")"
   ]
  },
  {
   "cell_type": "code",
   "execution_count": 28,
   "metadata": {},
   "outputs": [
    {
     "data": {
      "text/plain": [
       "┌──────────────────┬─────────┬────────────┬────────────┬─────────┬─────────┬───────────┬───────────────────────┬────────────┐\n",
       "│ Series_reference │ Period  │ Data_value │ Suppressed │ STATUS  │  UNITS  │ Magnitude │ Territorial_Authority │ Adjustment │\n",
       "│     varchar      │ double  │   double   │  varchar   │ varchar │ varchar │   int64   │        varchar        │  varchar   │\n",
       "├──────────────────┼─────────┼────────────┼────────────┼─────────┼─────────┼───────────┼───────────────────────┼────────────┤\n",
       "│ BDCQ.SEE1001A    │ 2011.06 │    17061.0 │ NULL       │ F       │ Number  │         0 │ Far North District    │ Actual     │\n",
       "│ BDCQ.SEE1001A    │ 2011.09 │    16702.0 │ NULL       │ F       │ Number  │         0 │ Far North District    │ Actual     │\n",
       "│ BDCQ.SEE1001A    │ 2011.12 │    17008.0 │ NULL       │ F       │ Number  │         0 │ Far North District    │ Actual     │\n",
       "│ BDCQ.SEE1001A    │ 2012.03 │    16630.0 │ NULL       │ F       │ Number  │         0 │ Far North District    │ Actual     │\n",
       "│ BDCQ.SEE1001A    │ 2012.06 │    16916.0 │ NULL       │ F       │ Number  │         0 │ Far North District    │ Actual     │\n",
       "└──────────────────┴─────────┴────────────┴────────────┴─────────┴─────────┴───────────┴───────────────────────┴────────────┘"
      ]
     },
     "execution_count": 28,
     "metadata": {},
     "output_type": "execute_result"
    }
   ],
   "source": [
    "duckdb.sql(\"\"\"\n",
    "        SELECT * \n",
    "        FROM employment_by_territorial_authority\n",
    "        LIMIT 5\n",
    "        \"\"\")"
   ]
  },
  {
   "cell_type": "markdown",
   "metadata": {},
   "source": [
    "#### Question 1\n",
    "\n",
    "___\n",
    "\n",
    "Of the industries where salaries and wages data did NOT exist in 2016 and only appeared later, which industry had the highest average value for actual filled jobs across time and what was that value?"
   ]
  },
  {
   "cell_type": "markdown",
   "metadata": {},
   "source": [
    "#### Question 1 Answer\n",
    "\n",
    "Of the industries where salaries and wages data did not exist in 2016, 'Retail Trade' was the industry with the highest average value for actual filled jobs across time with and average number of Actual filled jobs of 194,000 (rounded to the nearest thousand.)"
   ]
  },
  {
   "cell_type": "code",
   "execution_count": 29,
   "metadata": {},
   "outputs": [
    {
     "data": {
      "text/plain": [
       "┌───────────────┬────────────────────┐\n",
       "│ Industry_Type │  avg_filled_jobs   │\n",
       "│    varchar    │       double       │\n",
       "├───────────────┼────────────────────┤\n",
       "│ Retail Trade  │ 194053.71153846153 │\n",
       "└───────────────┴────────────────────┘"
      ]
     },
     "execution_count": 29,
     "metadata": {},
     "output_type": "execute_result"
    }
   ],
   "source": [
    "# Question 1 - using DuckDB SQL query\n",
    "duckdb.sql(\"\"\"\n",
    "    WITH industries_of_interest AS (\n",
    "        SELECT industry_type, MIN(period) as earliest_period\n",
    "        FROM salaries_and_wages\n",
    "        GROUP BY industry_type\n",
    "        HAVING earliest_period > 2016.13\n",
    "    )\n",
    "    SELECT industry_type, AVG(data_value) as avg_filled_jobs\n",
    "    FROM employment_by_industry\n",
    "    WHERE Adjustment = 'Actual'\n",
    "    GROUP BY industry_type\n",
    "    HAVING industry_type IN (SELECT industry_type FROM industries_of_interest)\n",
    "    ORDER BY avg_filled_jobs DESC\n",
    "    LIMIT 1;\n",
    "\"\"\")"
   ]
  },
  {
   "cell_type": "code",
   "execution_count": 30,
   "metadata": {},
   "outputs": [
    {
     "data": {
      "text/plain": [
       "['Accommodation and Food Services',\n",
       " 'Retail Trade and Accommodation',\n",
       " 'Retail Trade']"
      ]
     },
     "execution_count": 30,
     "metadata": {},
     "output_type": "execute_result"
    }
   ],
   "source": [
    "# Before jumping into the sql query- let's first work through the problem iteratively\n",
    "# This process will help us break down the problem into smaller chunks and also\n",
    "# give us confidence in our sql query result (if they match!)\n",
    "\n",
    "df = pd.DataFrame(salaries_and_wages_df.groupby('Industry_Type')['Period'].agg(\"min\").sort_values(ascending=False))\n",
    "df = df[df['Period'] > 2016.13]\n",
    "\n",
    "# The three industries which only appear in the salaries and wages dataset after 2016:\n",
    "[x for x in df.index]"
   ]
  },
  {
   "cell_type": "code",
   "execution_count": 31,
   "metadata": {},
   "outputs": [
    {
     "data": {
      "text/plain": [
       "array(['Retail Trade', 'Accommodation and Food Services'], dtype=object)"
      ]
     },
     "metadata": {},
     "output_type": "display_data"
    },
    {
     "data": {
      "text/html": [
       "<div>\n",
       "<style scoped>\n",
       "    .dataframe tbody tr th:only-of-type {\n",
       "        vertical-align: middle;\n",
       "    }\n",
       "\n",
       "    .dataframe tbody tr th {\n",
       "        vertical-align: top;\n",
       "    }\n",
       "\n",
       "    .dataframe thead th {\n",
       "        text-align: right;\n",
       "    }\n",
       "</style>\n",
       "<table border=\"1\" class=\"dataframe\">\n",
       "  <thead>\n",
       "    <tr style=\"text-align: right;\">\n",
       "      <th></th>\n",
       "      <th>Data_value</th>\n",
       "    </tr>\n",
       "    <tr>\n",
       "      <th>Industry_Type</th>\n",
       "      <th></th>\n",
       "    </tr>\n",
       "  </thead>\n",
       "  <tbody>\n",
       "    <tr>\n",
       "      <th>Accommodation and Food Services</th>\n",
       "      <td>130958.942308</td>\n",
       "    </tr>\n",
       "    <tr>\n",
       "      <th>Retail Trade</th>\n",
       "      <td>194053.711538</td>\n",
       "    </tr>\n",
       "  </tbody>\n",
       "</table>\n",
       "</div>"
      ],
      "text/plain": [
       "                                    Data_value\n",
       "Industry_Type                                 \n",
       "Accommodation and Food Services  130958.942308\n",
       "Retail Trade                     194053.711538"
      ]
     },
     "execution_count": 31,
     "metadata": {},
     "output_type": "execute_result"
    }
   ],
   "source": [
    "# Filter the filled_jobs_by_industry_df\n",
    "df2 = filled_jobs_by_industry_df[(filled_jobs_by_industry_df['Industry_Type'].isin(df.index)) & (filled_jobs_by_industry_df['Adjustment'] == 'Actual')]\n",
    "\n",
    "# We note 'Retail Trade and Accommodation' is not included as an industry type in the employment dataset but is included in the salaries and wages dataset\n",
    "display(df2['Industry_Type'].unique()) \n",
    "\n",
    "q1_ans = pd.DataFrame(df2.groupby('Industry_Type')['Data_value'].agg(\"mean\")) \n",
    "q1_ans # 194,000 filled jobs for Retail Trade"
   ]
  },
  {
   "cell_type": "code",
   "execution_count": 32,
   "metadata": {},
   "outputs": [
    {
     "data": {
      "text/html": [
       "<div>\n",
       "<style scoped>\n",
       "    .dataframe tbody tr th:only-of-type {\n",
       "        vertical-align: middle;\n",
       "    }\n",
       "\n",
       "    .dataframe tbody tr th {\n",
       "        vertical-align: top;\n",
       "    }\n",
       "\n",
       "    .dataframe thead th {\n",
       "        text-align: right;\n",
       "    }\n",
       "</style>\n",
       "<table border=\"1\" class=\"dataframe\">\n",
       "  <thead>\n",
       "    <tr style=\"text-align: right;\">\n",
       "      <th></th>\n",
       "      <th>Actual_filled_jobs</th>\n",
       "    </tr>\n",
       "    <tr>\n",
       "      <th>Industry_Type</th>\n",
       "      <th></th>\n",
       "    </tr>\n",
       "  </thead>\n",
       "  <tbody>\n",
       "    <tr>\n",
       "      <th>Retail Trade</th>\n",
       "      <td>194053.711538</td>\n",
       "    </tr>\n",
       "  </tbody>\n",
       "</table>\n",
       "</div>"
      ],
      "text/plain": [
       "               Actual_filled_jobs\n",
       "Industry_Type                    \n",
       "Retail Trade        194053.711538"
      ]
     },
     "execution_count": 32,
     "metadata": {},
     "output_type": "execute_result"
    }
   ],
   "source": [
    "# Of the industries where salaries and wages data did not exist in 2016, 'Retail Trade' was the industry with the highest average value for actual filled jobs across time with \n",
    "# and average number of Actual filled jobs of 194,000 (rounded to the nearest thousand.)\n",
    "pd.DataFrame(q1_ans.sort_values('Data_value', ascending=False)).rename({'Data_value':\"Actual_filled_jobs\"}, axis=1).head(1)"
   ]
  },
  {
   "cell_type": "markdown",
   "metadata": {},
   "source": [
    "#### Question 2\n",
    "\n",
    "___\n",
    "\n",
    "Provide the answer and write a DuckDB SQL query to show which year/month combination and industry had the second highest seasonally adjusted operating income sales across all the business industries in New Zealand that are categorised as NZSIOC level 2.\n"
   ]
  },
  {
   "cell_type": "markdown",
   "metadata": {},
   "source": [
    "#### Question 2 Answer\n",
    "\n",
    "The year/month combination and inudstry that had the second highest seasonally adjusted operating income sales across all the business industries categorised as NZSIOC level 2 was `2023.03` and `Wholesale Trade` which had Seasonally adjusted Sales and Operating Income of NZD $38,810,022,000"
   ]
  },
  {
   "cell_type": "code",
   "execution_count": 33,
   "metadata": {},
   "outputs": [
    {
     "data": {
      "text/plain": [
       "┌─────────┬─────────────────┬────────────────────────────┐\n",
       "│ Period  │  Industry_Type  │ sales_and_operating_income │\n",
       "│ double  │     varchar     │           double           │\n",
       "├─────────┼─────────────────┼────────────────────────────┤\n",
       "│ 2023.03 │ Wholesale Trade │                  38810.022 │\n",
       "└─────────┴─────────────────┴────────────────────────────┘"
      ]
     },
     "execution_count": 33,
     "metadata": {},
     "output_type": "execute_result"
    }
   ],
   "source": [
    "# Question 2 with DuckDB SQL query\n",
    "duckdb.sql(\"\"\"\n",
    "        SELECT Period, Industry_Type, Data_value as sales_and_operating_income\n",
    "        FROM sales_and_operating_income_df\n",
    "        WHERE Adjustment = 'Seasonally adjusted'\n",
    "        AND NZIOC_Level = 2\n",
    "        ORDER BY Data_value DESC\n",
    "        LIMIT 1 OFFSET 1\n",
    "        \"\"\")"
   ]
  },
  {
   "cell_type": "code",
   "execution_count": 34,
   "metadata": {},
   "outputs": [
    {
     "data": {
      "text/html": [
       "<div>\n",
       "<style scoped>\n",
       "    .dataframe tbody tr th:only-of-type {\n",
       "        vertical-align: middle;\n",
       "    }\n",
       "\n",
       "    .dataframe tbody tr th {\n",
       "        vertical-align: top;\n",
       "    }\n",
       "\n",
       "    .dataframe thead th {\n",
       "        text-align: right;\n",
       "    }\n",
       "</style>\n",
       "<table border=\"1\" class=\"dataframe\">\n",
       "  <thead>\n",
       "    <tr style=\"text-align: right;\">\n",
       "      <th></th>\n",
       "      <th>Period</th>\n",
       "      <th>Industry_Type</th>\n",
       "      <th>Data_value</th>\n",
       "    </tr>\n",
       "  </thead>\n",
       "  <tbody>\n",
       "    <tr>\n",
       "      <th>1883</th>\n",
       "      <td>2023.03</td>\n",
       "      <td>Wholesale Trade</td>\n",
       "      <td>38810.022</td>\n",
       "    </tr>\n",
       "  </tbody>\n",
       "</table>\n",
       "</div>"
      ],
      "text/plain": [
       "       Period    Industry_Type  Data_value\n",
       "1883  2023.03  Wholesale Trade   38810.022"
      ]
     },
     "execution_count": 34,
     "metadata": {},
     "output_type": "execute_result"
    }
   ],
   "source": [
    "# Q2 with Python\n",
    "# Filter the sales_and_operating_income dataframe to include only Seasonally Adjusted values\n",
    "df = sales_and_operating_income_df[(sales_and_operating_income_df['Adjustment'] == 'Seasonally adjusted') & (sales_and_operating_income_df['NZIOC_Level'] == 2)].copy()\n",
    "\n",
    "q2_ans = df.sort_values('Data_value', ascending=False).loc[:, ['Period', 'Industry_Type', 'Data_value']].iloc[[1]]\n",
    "q2_ans # 2023.09, 'Wholesale Trade"
   ]
  },
  {
   "cell_type": "markdown",
   "metadata": {},
   "source": [
    "#### Question 3\n",
    "Create a DuckDB SQL query to calculate the quarterly cumulative number of filled jobs over time for the territorial authority with the highest average value of filled jobs across time. You may not use window functions in your query."
   ]
  },
  {
   "cell_type": "markdown",
   "metadata": {},
   "source": [
    "#### Question 3 Answer\n",
    "\n",
    "Answer goes here..."
   ]
  },
  {
   "cell_type": "code",
   "execution_count": 35,
   "metadata": {},
   "outputs": [
    {
     "data": {
      "text/plain": [
       "array(['Actual'], dtype=object)"
      ]
     },
     "execution_count": 35,
     "metadata": {},
     "output_type": "execute_result"
    }
   ],
   "source": [
    "# Q3 python\n",
    "# Territorial Authority dataset does not have `Seasonally Adjusted` or `Trend` for filled jobs- only `Actual`\n",
    "filled_jobs_by_territorial_authority_df.Adjustment.unique()"
   ]
  },
  {
   "cell_type": "code",
   "execution_count": 36,
   "metadata": {},
   "outputs": [
    {
     "data": {
      "text/plain": [
       "'Auckland'"
      ]
     },
     "execution_count": 36,
     "metadata": {},
     "output_type": "execute_result"
    }
   ],
   "source": [
    "# What Territorial Authority has the highest average number of filled jobs?\n",
    "highest_avg_filled_jobs_ta = filled_jobs_by_territorial_authority_df.groupby('Territorial_Authority')['Data_value'].agg(\"mean\").idxmax() # Auckland\n",
    "highest_avg_filled_jobs_ta "
   ]
  },
  {
   "cell_type": "code",
   "execution_count": 37,
   "metadata": {},
   "outputs": [
    {
     "data": {
      "text/html": [
       "<div>\n",
       "<style scoped>\n",
       "    .dataframe tbody tr th:only-of-type {\n",
       "        vertical-align: middle;\n",
       "    }\n",
       "\n",
       "    .dataframe tbody tr th {\n",
       "        vertical-align: top;\n",
       "    }\n",
       "\n",
       "    .dataframe thead th {\n",
       "        text-align: right;\n",
       "    }\n",
       "</style>\n",
       "<table border=\"1\" class=\"dataframe\">\n",
       "  <thead>\n",
       "    <tr style=\"text-align: right;\">\n",
       "      <th></th>\n",
       "      <th>Series_reference</th>\n",
       "      <th>Period</th>\n",
       "      <th>Data_value</th>\n",
       "      <th>Suppressed</th>\n",
       "      <th>STATUS</th>\n",
       "      <th>UNITS</th>\n",
       "      <th>Magnitude</th>\n",
       "      <th>Territorial_Authority</th>\n",
       "      <th>Adjustment</th>\n",
       "      <th>cumulative_filled_jobs</th>\n",
       "    </tr>\n",
       "  </thead>\n",
       "  <tbody>\n",
       "    <tr>\n",
       "      <th>15912</th>\n",
       "      <td>BDCQ.SEE1076A</td>\n",
       "      <td>2011.06</td>\n",
       "      <td>558627.0</td>\n",
       "      <td>NaN</td>\n",
       "      <td>F</td>\n",
       "      <td>Number</td>\n",
       "      <td>0</td>\n",
       "      <td>Auckland</td>\n",
       "      <td>Actual</td>\n",
       "      <td>558627.0</td>\n",
       "    </tr>\n",
       "    <tr>\n",
       "      <th>15913</th>\n",
       "      <td>BDCQ.SEE1076A</td>\n",
       "      <td>2011.09</td>\n",
       "      <td>565439.0</td>\n",
       "      <td>NaN</td>\n",
       "      <td>F</td>\n",
       "      <td>Number</td>\n",
       "      <td>0</td>\n",
       "      <td>Auckland</td>\n",
       "      <td>Actual</td>\n",
       "      <td>1124066.0</td>\n",
       "    </tr>\n",
       "    <tr>\n",
       "      <th>15914</th>\n",
       "      <td>BDCQ.SEE1076A</td>\n",
       "      <td>2011.12</td>\n",
       "      <td>573729.0</td>\n",
       "      <td>NaN</td>\n",
       "      <td>F</td>\n",
       "      <td>Number</td>\n",
       "      <td>0</td>\n",
       "      <td>Auckland</td>\n",
       "      <td>Actual</td>\n",
       "      <td>1697795.0</td>\n",
       "    </tr>\n",
       "    <tr>\n",
       "      <th>15915</th>\n",
       "      <td>BDCQ.SEE1076A</td>\n",
       "      <td>2012.03</td>\n",
       "      <td>560373.0</td>\n",
       "      <td>NaN</td>\n",
       "      <td>F</td>\n",
       "      <td>Number</td>\n",
       "      <td>0</td>\n",
       "      <td>Auckland</td>\n",
       "      <td>Actual</td>\n",
       "      <td>2258168.0</td>\n",
       "    </tr>\n",
       "    <tr>\n",
       "      <th>15916</th>\n",
       "      <td>BDCQ.SEE1076A</td>\n",
       "      <td>2012.06</td>\n",
       "      <td>572938.0</td>\n",
       "      <td>NaN</td>\n",
       "      <td>F</td>\n",
       "      <td>Number</td>\n",
       "      <td>0</td>\n",
       "      <td>Auckland</td>\n",
       "      <td>Actual</td>\n",
       "      <td>2831106.0</td>\n",
       "    </tr>\n",
       "  </tbody>\n",
       "</table>\n",
       "</div>"
      ],
      "text/plain": [
       "      Series_reference   Period  Data_value Suppressed STATUS   UNITS  \\\n",
       "15912    BDCQ.SEE1076A  2011.06    558627.0        NaN      F  Number   \n",
       "15913    BDCQ.SEE1076A  2011.09    565439.0        NaN      F  Number   \n",
       "15914    BDCQ.SEE1076A  2011.12    573729.0        NaN      F  Number   \n",
       "15915    BDCQ.SEE1076A  2012.03    560373.0        NaN      F  Number   \n",
       "15916    BDCQ.SEE1076A  2012.06    572938.0        NaN      F  Number   \n",
       "\n",
       "       Magnitude Territorial_Authority Adjustment  cumulative_filled_jobs  \n",
       "15912          0              Auckland     Actual                558627.0  \n",
       "15913          0              Auckland     Actual               1124066.0  \n",
       "15914          0              Auckland     Actual               1697795.0  \n",
       "15915          0              Auckland     Actual               2258168.0  \n",
       "15916          0              Auckland     Actual               2831106.0  "
      ]
     },
     "metadata": {},
     "output_type": "display_data"
    },
    {
     "data": {
      "text/html": [
       "<div>\n",
       "<style scoped>\n",
       "    .dataframe tbody tr th:only-of-type {\n",
       "        vertical-align: middle;\n",
       "    }\n",
       "\n",
       "    .dataframe tbody tr th {\n",
       "        vertical-align: top;\n",
       "    }\n",
       "\n",
       "    .dataframe thead th {\n",
       "        text-align: right;\n",
       "    }\n",
       "</style>\n",
       "<table border=\"1\" class=\"dataframe\">\n",
       "  <thead>\n",
       "    <tr style=\"text-align: right;\">\n",
       "      <th></th>\n",
       "      <th>Series_reference</th>\n",
       "      <th>Period</th>\n",
       "      <th>Data_value</th>\n",
       "      <th>Suppressed</th>\n",
       "      <th>STATUS</th>\n",
       "      <th>UNITS</th>\n",
       "      <th>Magnitude</th>\n",
       "      <th>Territorial_Authority</th>\n",
       "      <th>Adjustment</th>\n",
       "      <th>cumulative_filled_jobs</th>\n",
       "    </tr>\n",
       "  </thead>\n",
       "  <tbody>\n",
       "    <tr>\n",
       "      <th>15959</th>\n",
       "      <td>BDCQ.SEE1076A</td>\n",
       "      <td>2023.03</td>\n",
       "      <td>766435.0</td>\n",
       "      <td>NaN</td>\n",
       "      <td>F</td>\n",
       "      <td>Number</td>\n",
       "      <td>0</td>\n",
       "      <td>Auckland</td>\n",
       "      <td>Actual</td>\n",
       "      <td>31847062.0</td>\n",
       "    </tr>\n",
       "    <tr>\n",
       "      <th>15960</th>\n",
       "      <td>BDCQ.SEE1076A</td>\n",
       "      <td>2023.06</td>\n",
       "      <td>782096.0</td>\n",
       "      <td>NaN</td>\n",
       "      <td>F</td>\n",
       "      <td>Number</td>\n",
       "      <td>0</td>\n",
       "      <td>Auckland</td>\n",
       "      <td>Actual</td>\n",
       "      <td>32629158.0</td>\n",
       "    </tr>\n",
       "    <tr>\n",
       "      <th>15961</th>\n",
       "      <td>BDCQ.SEE1076A</td>\n",
       "      <td>2023.09</td>\n",
       "      <td>782639.0</td>\n",
       "      <td>NaN</td>\n",
       "      <td>F</td>\n",
       "      <td>Number</td>\n",
       "      <td>0</td>\n",
       "      <td>Auckland</td>\n",
       "      <td>Actual</td>\n",
       "      <td>33411797.0</td>\n",
       "    </tr>\n",
       "    <tr>\n",
       "      <th>15962</th>\n",
       "      <td>BDCQ.SEE1076A</td>\n",
       "      <td>2023.12</td>\n",
       "      <td>795680.0</td>\n",
       "      <td>NaN</td>\n",
       "      <td>F</td>\n",
       "      <td>Number</td>\n",
       "      <td>0</td>\n",
       "      <td>Auckland</td>\n",
       "      <td>Actual</td>\n",
       "      <td>34207477.0</td>\n",
       "    </tr>\n",
       "    <tr>\n",
       "      <th>15963</th>\n",
       "      <td>BDCQ.SEE1076A</td>\n",
       "      <td>2024.03</td>\n",
       "      <td>787534.0</td>\n",
       "      <td>NaN</td>\n",
       "      <td>F</td>\n",
       "      <td>Number</td>\n",
       "      <td>0</td>\n",
       "      <td>Auckland</td>\n",
       "      <td>Actual</td>\n",
       "      <td>34995011.0</td>\n",
       "    </tr>\n",
       "  </tbody>\n",
       "</table>\n",
       "</div>"
      ],
      "text/plain": [
       "      Series_reference   Period  Data_value Suppressed STATUS   UNITS  \\\n",
       "15959    BDCQ.SEE1076A  2023.03    766435.0        NaN      F  Number   \n",
       "15960    BDCQ.SEE1076A  2023.06    782096.0        NaN      F  Number   \n",
       "15961    BDCQ.SEE1076A  2023.09    782639.0        NaN      F  Number   \n",
       "15962    BDCQ.SEE1076A  2023.12    795680.0        NaN      F  Number   \n",
       "15963    BDCQ.SEE1076A  2024.03    787534.0        NaN      F  Number   \n",
       "\n",
       "       Magnitude Territorial_Authority Adjustment  cumulative_filled_jobs  \n",
       "15959          0              Auckland     Actual              31847062.0  \n",
       "15960          0              Auckland     Actual              32629158.0  \n",
       "15961          0              Auckland     Actual              33411797.0  \n",
       "15962          0              Auckland     Actual              34207477.0  \n",
       "15963          0              Auckland     Actual              34995011.0  "
      ]
     },
     "metadata": {},
     "output_type": "display_data"
    }
   ],
   "source": [
    "df = filled_jobs_by_territorial_authority_df[filled_jobs_by_territorial_authority_df['Territorial_Authority'] == highest_avg_filled_jobs_ta].sort_values('Period')\n",
    "\n",
    "# Create a new column called cumulative_filled_jobs which is a cumulative sum of Data_value column\n",
    "df['cumulative_filled_jobs'] = df['Data_value'].cumsum()\n",
    "display(df.head(5))\n",
    "display(df.tail(5))"
   ]
  },
  {
   "cell_type": "code",
   "execution_count": 38,
   "metadata": {},
   "outputs": [
    {
     "data": {
      "text/plain": [
       "┌─────────┬───────────────────────┬────────────────────────┐\n",
       "│ Period  │ Territorial_Authority │ cumulative_filled_jobs │\n",
       "│ double  │        varchar        │         double         │\n",
       "├─────────┼───────────────────────┼────────────────────────┤\n",
       "│ 2011.06 │ Auckland              │               558627.0 │\n",
       "│ 2011.09 │ Auckland              │              1124066.0 │\n",
       "│ 2011.12 │ Auckland              │              1697795.0 │\n",
       "│ 2012.03 │ Auckland              │              2258168.0 │\n",
       "│ 2012.06 │ Auckland              │              2831106.0 │\n",
       "│ 2012.09 │ Auckland              │              3401783.0 │\n",
       "│ 2012.12 │ Auckland              │              3981507.0 │\n",
       "│ 2013.03 │ Auckland              │              4556314.0 │\n",
       "│ 2013.06 │ Auckland              │              5145225.0 │\n",
       "│ 2013.09 │ Auckland              │              5731581.0 │\n",
       "│    ·    │    ·                  │                  ·     │\n",
       "│    ·    │    ·                  │                  ·     │\n",
       "│    ·    │    ·                  │                  ·     │\n",
       "│ 2021.12 │ Auckland              │             28076457.0 │\n",
       "│ 2022.03 │ Auckland              │             28818348.0 │\n",
       "│ 2022.06 │ Auckland              │             29565489.0 │\n",
       "│ 2022.09 │ Auckland              │             30314636.0 │\n",
       "│ 2022.12 │ Auckland              │             31080627.0 │\n",
       "│ 2023.03 │ Auckland              │             31847062.0 │\n",
       "│ 2023.06 │ Auckland              │             32629158.0 │\n",
       "│ 2023.09 │ Auckland              │             33411797.0 │\n",
       "│ 2023.12 │ Auckland              │             34207477.0 │\n",
       "│ 2024.03 │ Auckland              │             34995011.0 │\n",
       "├─────────┴───────────────────────┴────────────────────────┤\n",
       "│ 52 rows (20 shown)                             3 columns │\n",
       "└──────────────────────────────────────────────────────────┘"
      ]
     },
     "execution_count": 38,
     "metadata": {},
     "output_type": "execute_result"
    }
   ],
   "source": [
    "# DuckDB SQL query to answer question 3 - currently using OVER which is a window function. :(\n",
    "duckdb.sql(\"\"\"\n",
    "        WITH highest_avg_filled_jobs_ta AS (\n",
    "            SELECT Territorial_Authority\n",
    "            FROM employment_by_territorial_authority\n",
    "            GROUP BY Territorial_Authority\n",
    "            ORDER BY AVG(Data_value) DESC\n",
    "            LIMIT 1\n",
    "),\n",
    "        cumulative_filled_jobs AS (\n",
    "            SELECT Period, Territorial_Authority, Data_value, SUM(Data_value) OVER (PARTITION BY Territorial_Authority ORDER BY Period) AS cumulative_filled_jobs\n",
    "            FROM employment_by_territorial_authority\n",
    "            WHERE Territorial_Authority IN (SELECT Territorial_Authority FROM highest_avg_filled_jobs_ta)\n",
    ")\n",
    "        SELECT Period, Territorial_Authority, cumulative_filled_jobs\n",
    "        FROM cumulative_filled_jobs\n",
    "        ORDER BY Period ASC;\n",
    "        \"\"\")"
   ]
  }
 ],
 "metadata": {
  "kernelspec": {
   "display_name": "marcus",
   "language": "python",
   "name": "python3"
  },
  "language_info": {
   "codemirror_mode": {
    "name": "ipython",
    "version": 3
   },
   "file_extension": ".py",
   "mimetype": "text/x-python",
   "name": "python",
   "nbconvert_exporter": "python",
   "pygments_lexer": "ipython3",
   "version": "3.11.5"
  }
 },
 "nbformat": 4,
 "nbformat_minor": 2
}
